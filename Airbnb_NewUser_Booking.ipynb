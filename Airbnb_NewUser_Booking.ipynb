{
 "cells": [
  {
   "cell_type": "code",
   "execution_count": 33,
   "metadata": {},
   "outputs": [
    {
     "data": {
      "text/plain": [
       "['age_gender_bkts.csv',\n",
       " 'countries.csv',\n",
       " 'sessions.csv',\n",
       " 'train_users_2.csv',\n",
       " 'test_users.csv']"
      ]
     },
     "execution_count": 33,
     "metadata": {},
     "output_type": "execute_result"
    }
   ],
   "source": [
    "## Airbnb New Booking Dataset\n",
    "''' Prediction of new Airbnb users booking their destination country.\n",
    "Importing and Reading csv(.csv)files initally.\n",
    "'''\n",
    "import pandas as pd\n",
    "files=['age_gender_bkts.csv','countries.csv','sessions.csv','train_users_2.csv','test_users.csv']\n",
    "files"
   ]
  },
  {
   "cell_type": "code",
   "execution_count": 34,
   "metadata": {},
   "outputs": [],
   "source": [
    "## Placing files into dictionary data\n",
    "data={}\n",
    "for i in files:\n",
    "    d=pd.read_csv(r'E:\\Airbnb Dataset\\{0}'.format(i))\n",
    "    data[i.replace('.csv','')]=d"
   ]
  },
  {
   "cell_type": "code",
   "execution_count": 35,
   "metadata": {},
   "outputs": [
    {
     "name": "stdout",
     "output_type": "stream",
     "text": [
      "\n",
      "age_gender_bkts\n",
      "\n",
      "  age_bucket country_destination gender  population_in_thousands    year\n",
      "0       100+                  AU   male                      1.0  2015.0\n",
      "1      95-99                  AU   male                      9.0  2015.0\n",
      "2      90-94                  AU   male                     47.0  2015.0\n",
      "3      85-89                  AU   male                    118.0  2015.0\n",
      "4      80-84                  AU   male                    199.0  2015.0\n",
      "\n",
      "countries\n",
      "\n",
      "  country_destination  lat_destination  lng_destination  distance_km  \\\n",
      "0                  AU       -26.853388       133.275160   15297.7440   \n",
      "1                  CA        62.393303       -96.818146    2828.1333   \n",
      "2                  DE        51.165707        10.452764    7879.5680   \n",
      "3                  ES        39.896027        -2.487694    7730.7240   \n",
      "4                  FR        46.232193         2.209667    7682.9450   \n",
      "\n",
      "   destination_km2 destination_language   language_levenshtein_distance  \n",
      "0        7741220.0                   eng                           0.00  \n",
      "1        9984670.0                   eng                           0.00  \n",
      "2         357022.0                   deu                          72.61  \n",
      "3         505370.0                   spa                          92.25  \n",
      "4         643801.0                   fra                          92.06  \n",
      "\n",
      "sessions\n",
      "\n",
      "      user_id          action action_type        action_detail  \\\n",
      "0  d1mm9tcy42          lookup         NaN                  NaN   \n",
      "1  d1mm9tcy42  search_results       click  view_search_results   \n",
      "2  d1mm9tcy42          lookup         NaN                  NaN   \n",
      "3  d1mm9tcy42  search_results       click  view_search_results   \n",
      "4  d1mm9tcy42          lookup         NaN                  NaN   \n",
      "\n",
      "       device_type  secs_elapsed  \n",
      "0  Windows Desktop         319.0  \n",
      "1  Windows Desktop       67753.0  \n",
      "2  Windows Desktop         301.0  \n",
      "3  Windows Desktop       22141.0  \n",
      "4  Windows Desktop         435.0  \n",
      "\n",
      "train_users_2\n",
      "\n",
      "           id date_account_created  timestamp_first_active date_first_booking  \\\n",
      "0  gxn3p5htnn           2010-06-28          20090319043255                NaN   \n",
      "1  820tgsjxq7           2011-05-25          20090523174809                NaN   \n",
      "2  4ft3gnwmtx           2010-09-28          20090609231247         2010-08-02   \n",
      "3  bjjt8pjhuk           2011-12-05          20091031060129         2012-09-08   \n",
      "4  87mebub9p4           2010-09-14          20091208061105         2010-02-18   \n",
      "\n",
      "      gender   age signup_method  signup_flow language affiliate_channel  \\\n",
      "0  -unknown-   NaN      facebook            0       en            direct   \n",
      "1       MALE  38.0      facebook            0       en               seo   \n",
      "2     FEMALE  56.0         basic            3       en            direct   \n",
      "3     FEMALE  42.0      facebook            0       en            direct   \n",
      "4  -unknown-  41.0         basic            0       en            direct   \n",
      "\n",
      "  affiliate_provider first_affiliate_tracked signup_app first_device_type  \\\n",
      "0             direct               untracked        Web       Mac Desktop   \n",
      "1             google               untracked        Web       Mac Desktop   \n",
      "2             direct               untracked        Web   Windows Desktop   \n",
      "3             direct               untracked        Web       Mac Desktop   \n",
      "4             direct               untracked        Web       Mac Desktop   \n",
      "\n",
      "  first_browser country_destination  \n",
      "0        Chrome                 NDF  \n",
      "1        Chrome                 NDF  \n",
      "2            IE                  US  \n",
      "3       Firefox               other  \n",
      "4        Chrome                  US  \n",
      "\n",
      "test_users\n",
      "\n",
      "           id date_account_created  timestamp_first_active  \\\n",
      "0  5uwns89zht           2014-07-01          20140701000006   \n",
      "1  jtl0dijy2j           2014-07-01          20140701000051   \n",
      "2  xx0ulgorjt           2014-07-01          20140701000148   \n",
      "3  6c6puo6ix0           2014-07-01          20140701000215   \n",
      "4  czqhjk3yfe           2014-07-01          20140701000305   \n",
      "\n",
      "   date_first_booking     gender   age signup_method  signup_flow language  \\\n",
      "0                 NaN     FEMALE  35.0      facebook            0       en   \n",
      "1                 NaN  -unknown-   NaN         basic            0       en   \n",
      "2                 NaN  -unknown-   NaN         basic            0       en   \n",
      "3                 NaN  -unknown-   NaN         basic            0       en   \n",
      "4                 NaN  -unknown-   NaN         basic            0       en   \n",
      "\n",
      "  affiliate_channel affiliate_provider first_affiliate_tracked signup_app  \\\n",
      "0            direct             direct               untracked      Moweb   \n",
      "1            direct             direct               untracked      Moweb   \n",
      "2            direct             direct                  linked        Web   \n",
      "3            direct             direct                  linked        Web   \n",
      "4            direct             direct               untracked        Web   \n",
      "\n",
      "  first_device_type  first_browser  \n",
      "0            iPhone  Mobile Safari  \n",
      "1            iPhone  Mobile Safari  \n",
      "2   Windows Desktop         Chrome  \n",
      "3   Windows Desktop             IE  \n",
      "4       Mac Desktop         Safari  \n"
     ]
    }
   ],
   "source": [
    "## Displaying contents present in dictionary\n",
    "for k,v in data.items():\n",
    "    print('\\n'+k+'\\n') \n",
    "    print(v.head())"
   ]
  },
  {
   "cell_type": "code",
   "execution_count": 36,
   "metadata": {},
   "outputs": [
    {
     "data": {
      "text/plain": [
       "country_destination               object\n",
       "lat_destination                  float64\n",
       "lng_destination                  float64\n",
       "distance_km                      float64\n",
       "destination_km2                  float64\n",
       "destination_language              object\n",
       "language_levenshtein_distance    float64\n",
       "dtype: object"
      ]
     },
     "execution_count": 36,
     "metadata": {},
     "output_type": "execute_result"
    }
   ],
   "source": [
    "## Checking datatypes of key 'countries' in dictionary\n",
    "data['countries'].dtypes"
   ]
  },
  {
   "cell_type": "code",
   "execution_count": 37,
   "metadata": {},
   "outputs": [
    {
     "data": {
      "text/html": [
       "<div>\n",
       "<style scoped>\n",
       "    .dataframe tbody tr th:only-of-type {\n",
       "        vertical-align: middle;\n",
       "    }\n",
       "\n",
       "    .dataframe tbody tr th {\n",
       "        vertical-align: top;\n",
       "    }\n",
       "\n",
       "    .dataframe thead th {\n",
       "        text-align: right;\n",
       "    }\n",
       "</style>\n",
       "<table border=\"1\" class=\"dataframe\">\n",
       "  <thead>\n",
       "    <tr style=\"text-align: right;\">\n",
       "      <th></th>\n",
       "      <th>country_destination</th>\n",
       "      <th>lat_destination</th>\n",
       "      <th>lng_destination</th>\n",
       "      <th>distance_km</th>\n",
       "      <th>destination_km2</th>\n",
       "      <th>destination_language</th>\n",
       "      <th>language_levenshtein_distance</th>\n",
       "    </tr>\n",
       "  </thead>\n",
       "  <tbody>\n",
       "    <tr>\n",
       "      <th>0</th>\n",
       "      <td>AU</td>\n",
       "      <td>-26.853388</td>\n",
       "      <td>133.275160</td>\n",
       "      <td>15297.7440</td>\n",
       "      <td>7741220.0</td>\n",
       "      <td>eng</td>\n",
       "      <td>0.00</td>\n",
       "    </tr>\n",
       "    <tr>\n",
       "      <th>1</th>\n",
       "      <td>CA</td>\n",
       "      <td>62.393303</td>\n",
       "      <td>-96.818146</td>\n",
       "      <td>2828.1333</td>\n",
       "      <td>9984670.0</td>\n",
       "      <td>eng</td>\n",
       "      <td>0.00</td>\n",
       "    </tr>\n",
       "    <tr>\n",
       "      <th>2</th>\n",
       "      <td>DE</td>\n",
       "      <td>51.165707</td>\n",
       "      <td>10.452764</td>\n",
       "      <td>7879.5680</td>\n",
       "      <td>357022.0</td>\n",
       "      <td>deu</td>\n",
       "      <td>72.61</td>\n",
       "    </tr>\n",
       "    <tr>\n",
       "      <th>3</th>\n",
       "      <td>ES</td>\n",
       "      <td>39.896027</td>\n",
       "      <td>-2.487694</td>\n",
       "      <td>7730.7240</td>\n",
       "      <td>505370.0</td>\n",
       "      <td>spa</td>\n",
       "      <td>92.25</td>\n",
       "    </tr>\n",
       "    <tr>\n",
       "      <th>4</th>\n",
       "      <td>FR</td>\n",
       "      <td>46.232193</td>\n",
       "      <td>2.209667</td>\n",
       "      <td>7682.9450</td>\n",
       "      <td>643801.0</td>\n",
       "      <td>fra</td>\n",
       "      <td>92.06</td>\n",
       "    </tr>\n",
       "  </tbody>\n",
       "</table>\n",
       "</div>"
      ],
      "text/plain": [
       "  country_destination  lat_destination  lng_destination  distance_km  \\\n",
       "0                  AU       -26.853388       133.275160   15297.7440   \n",
       "1                  CA        62.393303       -96.818146    2828.1333   \n",
       "2                  DE        51.165707        10.452764    7879.5680   \n",
       "3                  ES        39.896027        -2.487694    7730.7240   \n",
       "4                  FR        46.232193         2.209667    7682.9450   \n",
       "\n",
       "   destination_km2 destination_language   language_levenshtein_distance  \n",
       "0        7741220.0                   eng                           0.00  \n",
       "1        9984670.0                   eng                           0.00  \n",
       "2         357022.0                   deu                          72.61  \n",
       "3         505370.0                   spa                          92.25  \n",
       "4         643801.0                   fra                          92.06  "
      ]
     },
     "execution_count": 37,
     "metadata": {},
     "output_type": "execute_result"
    }
   ],
   "source": [
    "## Displaying contents in countries\n",
    "data['countries'].head()"
   ]
  },
  {
   "cell_type": "code",
   "execution_count": 38,
   "metadata": {},
   "outputs": [
    {
     "data": {
      "text/plain": [
       "age_bucket                  object\n",
       "country_destination         object\n",
       "gender                      object\n",
       "population_in_thousands    float64\n",
       "year                       float64\n",
       "dtype: object"
      ]
     },
     "execution_count": 38,
     "metadata": {},
     "output_type": "execute_result"
    }
   ],
   "source": [
    "## Checking datatypes of key 'age_gender_bkts' in dictionary\n",
    "data['age_gender_bkts'].dtypes"
   ]
  },
  {
   "cell_type": "code",
   "execution_count": 39,
   "metadata": {},
   "outputs": [
    {
     "data": {
      "text/html": [
       "<div>\n",
       "<style scoped>\n",
       "    .dataframe tbody tr th:only-of-type {\n",
       "        vertical-align: middle;\n",
       "    }\n",
       "\n",
       "    .dataframe tbody tr th {\n",
       "        vertical-align: top;\n",
       "    }\n",
       "\n",
       "    .dataframe thead th {\n",
       "        text-align: right;\n",
       "    }\n",
       "</style>\n",
       "<table border=\"1\" class=\"dataframe\">\n",
       "  <thead>\n",
       "    <tr style=\"text-align: right;\">\n",
       "      <th></th>\n",
       "      <th>age_bucket</th>\n",
       "      <th>country_destination</th>\n",
       "      <th>gender</th>\n",
       "      <th>population_in_thousands</th>\n",
       "      <th>year</th>\n",
       "    </tr>\n",
       "  </thead>\n",
       "  <tbody>\n",
       "    <tr>\n",
       "      <th>0</th>\n",
       "      <td>100+</td>\n",
       "      <td>AU</td>\n",
       "      <td>male</td>\n",
       "      <td>1.0</td>\n",
       "      <td>2015.0</td>\n",
       "    </tr>\n",
       "    <tr>\n",
       "      <th>1</th>\n",
       "      <td>95-99</td>\n",
       "      <td>AU</td>\n",
       "      <td>male</td>\n",
       "      <td>9.0</td>\n",
       "      <td>2015.0</td>\n",
       "    </tr>\n",
       "    <tr>\n",
       "      <th>2</th>\n",
       "      <td>90-94</td>\n",
       "      <td>AU</td>\n",
       "      <td>male</td>\n",
       "      <td>47.0</td>\n",
       "      <td>2015.0</td>\n",
       "    </tr>\n",
       "    <tr>\n",
       "      <th>3</th>\n",
       "      <td>85-89</td>\n",
       "      <td>AU</td>\n",
       "      <td>male</td>\n",
       "      <td>118.0</td>\n",
       "      <td>2015.0</td>\n",
       "    </tr>\n",
       "    <tr>\n",
       "      <th>4</th>\n",
       "      <td>80-84</td>\n",
       "      <td>AU</td>\n",
       "      <td>male</td>\n",
       "      <td>199.0</td>\n",
       "      <td>2015.0</td>\n",
       "    </tr>\n",
       "  </tbody>\n",
       "</table>\n",
       "</div>"
      ],
      "text/plain": [
       "  age_bucket country_destination gender  population_in_thousands    year\n",
       "0       100+                  AU   male                      1.0  2015.0\n",
       "1      95-99                  AU   male                      9.0  2015.0\n",
       "2      90-94                  AU   male                     47.0  2015.0\n",
       "3      85-89                  AU   male                    118.0  2015.0\n",
       "4      80-84                  AU   male                    199.0  2015.0"
      ]
     },
     "execution_count": 39,
     "metadata": {},
     "output_type": "execute_result"
    }
   ],
   "source": [
    "## Displaying contents in age_gender_bkts\n",
    "data['age_gender_bkts'].head()"
   ]
  },
  {
   "cell_type": "code",
   "execution_count": 40,
   "metadata": {},
   "outputs": [],
   "source": [
    "## Converting column 'year' in 'age_gender_bkts' to datatype 'int'\n",
    "data['age_gender_bkts']['year']=data['age_gender_bkts']['year'].astype(int)"
   ]
  },
  {
   "cell_type": "code",
   "execution_count": 41,
   "metadata": {},
   "outputs": [
    {
     "data": {
      "text/plain": [
       "age_bucket                  object\n",
       "country_destination         object\n",
       "gender                      object\n",
       "population_in_thousands    float64\n",
       "year                         int32\n",
       "dtype: object"
      ]
     },
     "execution_count": 41,
     "metadata": {},
     "output_type": "execute_result"
    }
   ],
   "source": [
    "## Checking datatypes of key 'age_gender_bkts' in dictionary\n",
    "data['age_gender_bkts'].dtypes"
   ]
  },
  {
   "cell_type": "code",
   "execution_count": 42,
   "metadata": {},
   "outputs": [
    {
     "data": {
      "text/plain": [
       "id                          object\n",
       "date_account_created        object\n",
       "timestamp_first_active       int64\n",
       "date_first_booking          object\n",
       "gender                      object\n",
       "age                        float64\n",
       "signup_method               object\n",
       "signup_flow                  int64\n",
       "language                    object\n",
       "affiliate_channel           object\n",
       "affiliate_provider          object\n",
       "first_affiliate_tracked     object\n",
       "signup_app                  object\n",
       "first_device_type           object\n",
       "first_browser               object\n",
       "country_destination         object\n",
       "dtype: object"
      ]
     },
     "execution_count": 42,
     "metadata": {},
     "output_type": "execute_result"
    }
   ],
   "source": [
    "## Checking datatypes of key 'train_users_2' in dictionary\n",
    "data['train_users_2'].dtypes"
   ]
  },
  {
   "cell_type": "code",
   "execution_count": 43,
   "metadata": {},
   "outputs": [
    {
     "data": {
      "text/html": [
       "<div>\n",
       "<style scoped>\n",
       "    .dataframe tbody tr th:only-of-type {\n",
       "        vertical-align: middle;\n",
       "    }\n",
       "\n",
       "    .dataframe tbody tr th {\n",
       "        vertical-align: top;\n",
       "    }\n",
       "\n",
       "    .dataframe thead th {\n",
       "        text-align: right;\n",
       "    }\n",
       "</style>\n",
       "<table border=\"1\" class=\"dataframe\">\n",
       "  <thead>\n",
       "    <tr style=\"text-align: right;\">\n",
       "      <th></th>\n",
       "      <th>id</th>\n",
       "      <th>date_account_created</th>\n",
       "      <th>timestamp_first_active</th>\n",
       "      <th>date_first_booking</th>\n",
       "      <th>gender</th>\n",
       "      <th>age</th>\n",
       "      <th>signup_method</th>\n",
       "      <th>signup_flow</th>\n",
       "      <th>language</th>\n",
       "      <th>affiliate_channel</th>\n",
       "      <th>affiliate_provider</th>\n",
       "      <th>first_affiliate_tracked</th>\n",
       "      <th>signup_app</th>\n",
       "      <th>first_device_type</th>\n",
       "      <th>first_browser</th>\n",
       "      <th>country_destination</th>\n",
       "    </tr>\n",
       "  </thead>\n",
       "  <tbody>\n",
       "    <tr>\n",
       "      <th>0</th>\n",
       "      <td>gxn3p5htnn</td>\n",
       "      <td>2010-06-28</td>\n",
       "      <td>20090319043255</td>\n",
       "      <td>NaN</td>\n",
       "      <td>-unknown-</td>\n",
       "      <td>NaN</td>\n",
       "      <td>facebook</td>\n",
       "      <td>0</td>\n",
       "      <td>en</td>\n",
       "      <td>direct</td>\n",
       "      <td>direct</td>\n",
       "      <td>untracked</td>\n",
       "      <td>Web</td>\n",
       "      <td>Mac Desktop</td>\n",
       "      <td>Chrome</td>\n",
       "      <td>NDF</td>\n",
       "    </tr>\n",
       "    <tr>\n",
       "      <th>1</th>\n",
       "      <td>820tgsjxq7</td>\n",
       "      <td>2011-05-25</td>\n",
       "      <td>20090523174809</td>\n",
       "      <td>NaN</td>\n",
       "      <td>MALE</td>\n",
       "      <td>38.0</td>\n",
       "      <td>facebook</td>\n",
       "      <td>0</td>\n",
       "      <td>en</td>\n",
       "      <td>seo</td>\n",
       "      <td>google</td>\n",
       "      <td>untracked</td>\n",
       "      <td>Web</td>\n",
       "      <td>Mac Desktop</td>\n",
       "      <td>Chrome</td>\n",
       "      <td>NDF</td>\n",
       "    </tr>\n",
       "    <tr>\n",
       "      <th>2</th>\n",
       "      <td>4ft3gnwmtx</td>\n",
       "      <td>2010-09-28</td>\n",
       "      <td>20090609231247</td>\n",
       "      <td>2010-08-02</td>\n",
       "      <td>FEMALE</td>\n",
       "      <td>56.0</td>\n",
       "      <td>basic</td>\n",
       "      <td>3</td>\n",
       "      <td>en</td>\n",
       "      <td>direct</td>\n",
       "      <td>direct</td>\n",
       "      <td>untracked</td>\n",
       "      <td>Web</td>\n",
       "      <td>Windows Desktop</td>\n",
       "      <td>IE</td>\n",
       "      <td>US</td>\n",
       "    </tr>\n",
       "    <tr>\n",
       "      <th>3</th>\n",
       "      <td>bjjt8pjhuk</td>\n",
       "      <td>2011-12-05</td>\n",
       "      <td>20091031060129</td>\n",
       "      <td>2012-09-08</td>\n",
       "      <td>FEMALE</td>\n",
       "      <td>42.0</td>\n",
       "      <td>facebook</td>\n",
       "      <td>0</td>\n",
       "      <td>en</td>\n",
       "      <td>direct</td>\n",
       "      <td>direct</td>\n",
       "      <td>untracked</td>\n",
       "      <td>Web</td>\n",
       "      <td>Mac Desktop</td>\n",
       "      <td>Firefox</td>\n",
       "      <td>other</td>\n",
       "    </tr>\n",
       "    <tr>\n",
       "      <th>4</th>\n",
       "      <td>87mebub9p4</td>\n",
       "      <td>2010-09-14</td>\n",
       "      <td>20091208061105</td>\n",
       "      <td>2010-02-18</td>\n",
       "      <td>-unknown-</td>\n",
       "      <td>41.0</td>\n",
       "      <td>basic</td>\n",
       "      <td>0</td>\n",
       "      <td>en</td>\n",
       "      <td>direct</td>\n",
       "      <td>direct</td>\n",
       "      <td>untracked</td>\n",
       "      <td>Web</td>\n",
       "      <td>Mac Desktop</td>\n",
       "      <td>Chrome</td>\n",
       "      <td>US</td>\n",
       "    </tr>\n",
       "  </tbody>\n",
       "</table>\n",
       "</div>"
      ],
      "text/plain": [
       "           id date_account_created  timestamp_first_active date_first_booking  \\\n",
       "0  gxn3p5htnn           2010-06-28          20090319043255                NaN   \n",
       "1  820tgsjxq7           2011-05-25          20090523174809                NaN   \n",
       "2  4ft3gnwmtx           2010-09-28          20090609231247         2010-08-02   \n",
       "3  bjjt8pjhuk           2011-12-05          20091031060129         2012-09-08   \n",
       "4  87mebub9p4           2010-09-14          20091208061105         2010-02-18   \n",
       "\n",
       "      gender   age signup_method  signup_flow language affiliate_channel  \\\n",
       "0  -unknown-   NaN      facebook            0       en            direct   \n",
       "1       MALE  38.0      facebook            0       en               seo   \n",
       "2     FEMALE  56.0         basic            3       en            direct   \n",
       "3     FEMALE  42.0      facebook            0       en            direct   \n",
       "4  -unknown-  41.0         basic            0       en            direct   \n",
       "\n",
       "  affiliate_provider first_affiliate_tracked signup_app first_device_type  \\\n",
       "0             direct               untracked        Web       Mac Desktop   \n",
       "1             google               untracked        Web       Mac Desktop   \n",
       "2             direct               untracked        Web   Windows Desktop   \n",
       "3             direct               untracked        Web       Mac Desktop   \n",
       "4             direct               untracked        Web       Mac Desktop   \n",
       "\n",
       "  first_browser country_destination  \n",
       "0        Chrome                 NDF  \n",
       "1        Chrome                 NDF  \n",
       "2            IE                  US  \n",
       "3       Firefox               other  \n",
       "4        Chrome                  US  "
      ]
     },
     "execution_count": 43,
     "metadata": {},
     "output_type": "execute_result"
    }
   ],
   "source": [
    "## Displaying contents in train_users_2\n",
    "data['train_users_2'].head()"
   ]
  },
  {
   "cell_type": "code",
   "execution_count": 44,
   "metadata": {},
   "outputs": [
    {
     "data": {
      "text/plain": [
       "9rkgsf21kc    1\n",
       "16psorz1ou    1\n",
       "65jrf61y6r    1\n",
       "t1gwlxwha7    1\n",
       "rjohgenuvg    1\n",
       "c1dcrcjwmu    1\n",
       "zjfflop7g4    1\n",
       "zxhqirdicj    1\n",
       "n9paud8dcy    1\n",
       "4aimveoc9l    1\n",
       "mmh1hdht4s    1\n",
       "j7wnqxvgiu    1\n",
       "3xea2juj8k    1\n",
       "xb3v6n0ioh    1\n",
       "gvxl5wh0ap    1\n",
       "s2chbro9yp    1\n",
       "aaejhwhat9    1\n",
       "pqpekaj89z    1\n",
       "0r3tmrphwp    1\n",
       "fn1m7rxieq    1\n",
       "1o9b4nk2nf    1\n",
       "ai66k6v91p    1\n",
       "ei23vrlb83    1\n",
       "oa6algydjh    1\n",
       "f828rmhbid    1\n",
       "4umgiy1cch    1\n",
       "n4f180qupw    1\n",
       "vkrhafwgnn    1\n",
       "9kq9qgugcy    1\n",
       "rdv7wk3chs    1\n",
       "             ..\n",
       "rmxt5hbq8d    1\n",
       "64c63jszc2    1\n",
       "gvxoyvzjya    1\n",
       "wnswaulrmj    1\n",
       "ptgalgmhll    1\n",
       "m92p2x4se1    1\n",
       "273oy7hscb    1\n",
       "8h7a7fhad3    1\n",
       "4wlaamxria    1\n",
       "ggj77tviit    1\n",
       "hs7bblhds2    1\n",
       "sgukjc9r4t    1\n",
       "5c0bssrnxw    1\n",
       "bc8c91dq8m    1\n",
       "d9nhqmx87e    1\n",
       "xjcyvroezb    1\n",
       "g0y2ao3m86    1\n",
       "9sb43ebfy3    1\n",
       "0un86vivo6    1\n",
       "rxrfewd210    1\n",
       "uri07bo1lr    1\n",
       "n0i6jb8s3j    1\n",
       "miipch4hqr    1\n",
       "mozrekepvn    1\n",
       "sex7wtldgd    1\n",
       "7yjlomkesn    1\n",
       "cm8co73psb    1\n",
       "4otubww8a5    1\n",
       "53ty7sndm5    1\n",
       "pljsig0hqn    1\n",
       "Name: id, Length: 213451, dtype: int64"
      ]
     },
     "execution_count": 44,
     "metadata": {},
     "output_type": "execute_result"
    }
   ],
   "source": [
    "## Counting user_id's in 'train_users_2'\n",
    "data['train_users_2']['id'].value_counts()"
   ]
  },
  {
   "cell_type": "code",
   "execution_count": 45,
   "metadata": {},
   "outputs": [
    {
     "data": {
      "text/plain": [
       "user_id           object\n",
       "action            object\n",
       "action_type       object\n",
       "action_detail     object\n",
       "device_type       object\n",
       "secs_elapsed     float64\n",
       "dtype: object"
      ]
     },
     "execution_count": 45,
     "metadata": {},
     "output_type": "execute_result"
    }
   ],
   "source": [
    "## Checking datatypes of key 'sessions' in dictionary\n",
    "data['sessions'].dtypes"
   ]
  },
  {
   "cell_type": "code",
   "execution_count": 46,
   "metadata": {},
   "outputs": [
    {
     "data": {
      "text/html": [
       "<div>\n",
       "<style scoped>\n",
       "    .dataframe tbody tr th:only-of-type {\n",
       "        vertical-align: middle;\n",
       "    }\n",
       "\n",
       "    .dataframe tbody tr th {\n",
       "        vertical-align: top;\n",
       "    }\n",
       "\n",
       "    .dataframe thead th {\n",
       "        text-align: right;\n",
       "    }\n",
       "</style>\n",
       "<table border=\"1\" class=\"dataframe\">\n",
       "  <thead>\n",
       "    <tr style=\"text-align: right;\">\n",
       "      <th></th>\n",
       "      <th>user_id</th>\n",
       "      <th>action</th>\n",
       "      <th>action_type</th>\n",
       "      <th>action_detail</th>\n",
       "      <th>device_type</th>\n",
       "      <th>secs_elapsed</th>\n",
       "    </tr>\n",
       "  </thead>\n",
       "  <tbody>\n",
       "    <tr>\n",
       "      <th>0</th>\n",
       "      <td>d1mm9tcy42</td>\n",
       "      <td>lookup</td>\n",
       "      <td>NaN</td>\n",
       "      <td>NaN</td>\n",
       "      <td>Windows Desktop</td>\n",
       "      <td>319.0</td>\n",
       "    </tr>\n",
       "    <tr>\n",
       "      <th>1</th>\n",
       "      <td>d1mm9tcy42</td>\n",
       "      <td>search_results</td>\n",
       "      <td>click</td>\n",
       "      <td>view_search_results</td>\n",
       "      <td>Windows Desktop</td>\n",
       "      <td>67753.0</td>\n",
       "    </tr>\n",
       "    <tr>\n",
       "      <th>2</th>\n",
       "      <td>d1mm9tcy42</td>\n",
       "      <td>lookup</td>\n",
       "      <td>NaN</td>\n",
       "      <td>NaN</td>\n",
       "      <td>Windows Desktop</td>\n",
       "      <td>301.0</td>\n",
       "    </tr>\n",
       "    <tr>\n",
       "      <th>3</th>\n",
       "      <td>d1mm9tcy42</td>\n",
       "      <td>search_results</td>\n",
       "      <td>click</td>\n",
       "      <td>view_search_results</td>\n",
       "      <td>Windows Desktop</td>\n",
       "      <td>22141.0</td>\n",
       "    </tr>\n",
       "    <tr>\n",
       "      <th>4</th>\n",
       "      <td>d1mm9tcy42</td>\n",
       "      <td>lookup</td>\n",
       "      <td>NaN</td>\n",
       "      <td>NaN</td>\n",
       "      <td>Windows Desktop</td>\n",
       "      <td>435.0</td>\n",
       "    </tr>\n",
       "  </tbody>\n",
       "</table>\n",
       "</div>"
      ],
      "text/plain": [
       "      user_id          action action_type        action_detail  \\\n",
       "0  d1mm9tcy42          lookup         NaN                  NaN   \n",
       "1  d1mm9tcy42  search_results       click  view_search_results   \n",
       "2  d1mm9tcy42          lookup         NaN                  NaN   \n",
       "3  d1mm9tcy42  search_results       click  view_search_results   \n",
       "4  d1mm9tcy42          lookup         NaN                  NaN   \n",
       "\n",
       "       device_type  secs_elapsed  \n",
       "0  Windows Desktop         319.0  \n",
       "1  Windows Desktop       67753.0  \n",
       "2  Windows Desktop         301.0  \n",
       "3  Windows Desktop       22141.0  \n",
       "4  Windows Desktop         435.0  "
      ]
     },
     "execution_count": 46,
     "metadata": {},
     "output_type": "execute_result"
    }
   ],
   "source": [
    "## Displaying contents in sessions\n",
    "data['sessions'].head()"
   ]
  },
  {
   "cell_type": "code",
   "execution_count": 47,
   "metadata": {},
   "outputs": [
    {
     "data": {
      "text/plain": [
       "mxqbh3ykxl    2722\n",
       "0hjoc5q8nf    2644\n",
       "mjbl6rrj52    2476\n",
       "l5lgm3w5pc    2424\n",
       "wg9413iaux    2362\n",
       "ht8alhs4lt    2335\n",
       "wyv1imf8qw    2323\n",
       "9z4gim1s4l    2264\n",
       "monrpvx2md    2264\n",
       "h0cjxc177k    2246\n",
       "a0uhiojrra    2137\n",
       "vcmr2jh5ix    2085\n",
       "1m6xnhstmb    2019\n",
       "p1183hxzc4    1938\n",
       "e8h4qghxlg    1923\n",
       "gey51ednme    1919\n",
       "5vpuk5mssg    1876\n",
       "j2cvctvqve    1861\n",
       "yu5bdalz2b    1811\n",
       "ejpe95pcyo    1797\n",
       "r541x78s24    1792\n",
       "qkbkunyzq7    1780\n",
       "n4s6g3grzf    1779\n",
       "bfiueza7rt    1753\n",
       "b1io359wpg    1752\n",
       "8ikl7vnfa3    1732\n",
       "e81qfos71y    1701\n",
       "s5ez13snz0    1685\n",
       "93dulcecw0    1614\n",
       "r0rgjqbsvp    1612\n",
       "              ... \n",
       "7ck58u5w7r       1\n",
       "mdorengqr2       1\n",
       "l1rxkvrs73       1\n",
       "rjmdl7s0tu       1\n",
       "kbrhe2kjpc       1\n",
       "satek3ehn3       1\n",
       "zh3o1cgj3z       1\n",
       "eb1ak06djf       1\n",
       "k727055ffr       1\n",
       "hsuz4dfue6       1\n",
       "l6k8wc6rc3       1\n",
       "ktv4d2yq46       1\n",
       "yapcdloujq       1\n",
       "wf40be0zzb       1\n",
       "4sun9swh60       1\n",
       "42rs0skqgf       1\n",
       "ubtex7sku8       1\n",
       "jb6439psgk       1\n",
       "uurhc8enxu       1\n",
       "zevog0km0o       1\n",
       "t9o5rwmg1k       1\n",
       "p6nlrrovrn       1\n",
       "vil6f4wofl       1\n",
       "ju6kj8ae3g       1\n",
       "0ov1axn3fr       1\n",
       "g8aszb7x6a       1\n",
       "lksthytjh0       1\n",
       "ce1ux5566i       1\n",
       "3x6dvttvz3       1\n",
       "9k7bgqr6r9       1\n",
       "Name: user_id, Length: 135483, dtype: int64"
      ]
     },
     "execution_count": 47,
     "metadata": {},
     "output_type": "execute_result"
    }
   ],
   "source": [
    "## Counting user_id's in 'sessions' \n",
    "data['sessions']['user_id'].value_counts()"
   ]
  },
  {
   "cell_type": "code",
   "execution_count": 48,
   "metadata": {},
   "outputs": [],
   "source": [
    "## Creating a new dataframe 'sessions' and assigning data['sessions'] to it\n",
    "sessions=data['sessions']"
   ]
  },
  {
   "cell_type": "code",
   "execution_count": 49,
   "metadata": {},
   "outputs": [
    {
     "data": {
      "text/plain": [
       "user_id            34496\n",
       "action             79626\n",
       "action_type      1126204\n",
       "action_detail    1126204\n",
       "device_type            0\n",
       "secs_elapsed      136031\n",
       "dtype: int64"
      ]
     },
     "execution_count": 49,
     "metadata": {},
     "output_type": "execute_result"
    }
   ],
   "source": [
    "## Checking for null values in features of dataframe 'sessions'\n",
    "sessions.isnull().sum()"
   ]
  },
  {
   "cell_type": "code",
   "execution_count": 50,
   "metadata": {},
   "outputs": [],
   "source": [
    "## Dropping rows containing null id's in dataframe 'sessions'\n",
    "sessions=sessions[sessions.user_id.notnull()]"
   ]
  },
  {
   "cell_type": "code",
   "execution_count": 51,
   "metadata": {},
   "outputs": [
    {
     "data": {
      "text/plain": [
       "user_id                0\n",
       "action             79480\n",
       "action_type      1122957\n",
       "action_detail    1122957\n",
       "device_type            0\n",
       "secs_elapsed      135483\n",
       "dtype: int64"
      ]
     },
     "execution_count": 51,
     "metadata": {},
     "output_type": "execute_result"
    }
   ],
   "source": [
    "## Checking for further null values in features of dataframe 'sessions'\n",
    "sessions.isnull().sum()"
   ]
  },
  {
   "cell_type": "code",
   "execution_count": 52,
   "metadata": {},
   "outputs": [
    {
     "data": {
      "text/plain": [
       "message_post    79480\n",
       "Name: action_type, dtype: int64"
      ]
     },
     "execution_count": 52,
     "metadata": {},
     "output_type": "execute_result"
    }
   ],
   "source": [
    "## Null values in feature 'action' relate to feature 'action_type'\n",
    "sessions[sessions.action.isnull()].action_type.value_counts()"
   ]
  },
  {
   "cell_type": "code",
   "execution_count": 53,
   "metadata": {},
   "outputs": [
    {
     "name": "stderr",
     "output_type": "stream",
     "text": [
      "C:\\Users\\Dad\\AppData\\Local\\Continuum\\anaconda3\\lib\\site-packages\\ipykernel_launcher.py:2: SettingWithCopyWarning: \n",
      "A value is trying to be set on a copy of a slice from a DataFrame.\n",
      "Try using .loc[row_indexer,col_indexer] = value instead\n",
      "\n",
      "See the caveats in the documentation: http://pandas.pydata.org/pandas-docs/stable/indexing.html#indexing-view-versus-copy\n",
      "  \n",
      "C:\\Users\\Dad\\AppData\\Local\\Continuum\\anaconda3\\lib\\site-packages\\pandas\\core\\indexing.py:543: SettingWithCopyWarning: \n",
      "A value is trying to be set on a copy of a slice from a DataFrame.\n",
      "Try using .loc[row_indexer,col_indexer] = value instead\n",
      "\n",
      "See the caveats in the documentation: http://pandas.pydata.org/pandas-docs/stable/indexing.html#indexing-view-versus-copy\n",
      "  self.obj[item] = s\n"
     ]
    }
   ],
   "source": [
    "## Changing null value to 'message' in feature 'action'\n",
    "sessions[sessions.action.isnull()]='message'"
   ]
  },
  {
   "cell_type": "code",
   "execution_count": 54,
   "metadata": {},
   "outputs": [],
   "source": [
    "## Removing user_id's having 'message' in dataframe 'sessions'\n",
    "sessions=sessions[sessions.user_id!='message']"
   ]
  },
  {
   "cell_type": "code",
   "execution_count": 55,
   "metadata": {},
   "outputs": [
    {
     "data": {
      "text/plain": [
       "user_id                0\n",
       "action                 0\n",
       "action_type      1122957\n",
       "action_detail    1122957\n",
       "device_type            0\n",
       "secs_elapsed      120065\n",
       "dtype: int64"
      ]
     },
     "execution_count": 55,
     "metadata": {},
     "output_type": "execute_result"
    }
   ],
   "source": [
    "## Checking for further null values in features of dataframe 'sessions'\n",
    "sessions.isnull().sum()"
   ]
  },
  {
   "cell_type": "code",
   "execution_count": 56,
   "metadata": {},
   "outputs": [
    {
     "data": {
      "text/plain": [
       "Series([], Name: action_detail, dtype: int64)"
      ]
     },
     "execution_count": 56,
     "metadata": {},
     "output_type": "execute_result"
    }
   ],
   "source": [
    "## Null values in feature 'action_type' relate to feature 'action_detail'\n",
    "sessions[sessions.action_type.isnull()].action_detail.value_counts()"
   ]
  },
  {
   "cell_type": "code",
   "execution_count": 57,
   "metadata": {},
   "outputs": [],
   "source": [
    "''' Filling null values in column 'action_type' and 'action_detail' by using \n",
    "groupby 'user_id' and 'action' inside a function min_null_values_action_type_detail\n",
    "'''\n",
    "def min_null_values_action_type_detail(df,feature):\n",
    "    \n",
    "## Filling common values for each user and action\n",
    "    new_df=pd.DataFrame(df.groupby(['user_id','action'])[feature].value_counts())\n",
    "    new_df.rename(columns={feature:'Count'},inplace=True)\n",
    "    new_df=new_df.reset_index()\n",
    "    new_df_max=pd.DataFrame(new_df.groupby(['user_id','action'])['Count'].max())\n",
    "    new_df_max=new_df_max.reset_index()\n",
    "    ## Merging 2 dataframes\n",
    "    new_df_max=new_df_max.merge(new_df,on=['user_id','action','Count'])\n",
    "    del new_df_max['Count']\n",
    "    ## Merge with main dataframe\n",
    "    df=df.merge(new_df_max,left_on=['user_id','action'],right_on=['user_id','action'],how='left')\n",
    "    return df"
   ]
  },
  {
   "cell_type": "code",
   "execution_count": 58,
   "metadata": {},
   "outputs": [],
   "source": [
    "## Passing values while calling function\n",
    "sessions=min_null_values_action_type_detail(sessions,'action_type')"
   ]
  },
  {
   "cell_type": "code",
   "execution_count": 59,
   "metadata": {},
   "outputs": [],
   "source": [
    "sessions=min_null_values_action_type_detail(sessions,'action_detail')"
   ]
  },
  {
   "cell_type": "code",
   "execution_count": 60,
   "metadata": {},
   "outputs": [],
   "source": [
    "## Replacing null values to cols 'action_type' and 'action_detail'\n",
    "sessions.loc[sessions.action_type_x.isnull(),'action_type_x']=sessions.action_type_y"
   ]
  },
  {
   "cell_type": "code",
   "execution_count": 61,
   "metadata": {},
   "outputs": [],
   "source": [
    "sessions.loc[sessions.action_detail_x.isnull(),'action_detail_x']=sessions.action_detail_y"
   ]
  },
  {
   "cell_type": "code",
   "execution_count": 62,
   "metadata": {},
   "outputs": [],
   "source": [
    "## Assigning values of action_type_x and action_detail_x tp features action_type and action_detail\n",
    "sessions['action_type']=sessions.action_type_x\n",
    "sessions['action_detail']=sessions.action_detail_x"
   ]
  },
  {
   "cell_type": "code",
   "execution_count": 63,
   "metadata": {},
   "outputs": [],
   "source": [
    "## Dropping few cols from Dataframe sessions\n",
    "sessions=sessions.drop(['action_type_x','action_detail_x','action_type_y','action_detail_y'],axis=1)"
   ]
  },
  {
   "cell_type": "code",
   "execution_count": 64,
   "metadata": {},
   "outputs": [
    {
     "data": {
      "text/plain": [
       "user_id               0\n",
       "action                0\n",
       "device_type           0\n",
       "secs_elapsed     151815\n",
       "action_type      531386\n",
       "action_detail    531386\n",
       "dtype: int64"
      ]
     },
     "execution_count": 64,
     "metadata": {},
     "output_type": "execute_result"
    }
   ],
   "source": [
    "## Checking for further null values in features of dataframe 'sessions'\n",
    "sessions.isnull().sum()"
   ]
  },
  {
   "cell_type": "code",
   "execution_count": 65,
   "metadata": {},
   "outputs": [],
   "source": [
    "''' Filling null values in column 'action_type' and 'action_detail' by using \n",
    "groupby 'action' inside a function min_null_values_action_type_detail\n",
    "'''\n",
    "def min_null_values_action_type_detail(df,feature):\n",
    "    new_df=pd.DataFrame(df.groupby(['action'])[feature].value_counts())\n",
    "    new_df.rename(columns={feature:'Count'},inplace=True)\n",
    "    new_df=new_df.reset_index()\n",
    "    new_df_max=pd.DataFrame(new_df.groupby(['action'])['Count'].max())\n",
    "    new_df_max=new_df_max.reset_index()\n",
    "    ## Merging two dataframes\n",
    "    new_df_max=new_df_max.merge(new_df,on=['action','Count'])\n",
    "    del new_df_max['Count']\n",
    "    ## Merge with main dataframe\n",
    "    df=df.merge(new_df_max,left_on=['action'],right_on=['action'],how='left')\n",
    "    return df"
   ]
  },
  {
   "cell_type": "code",
   "execution_count": 66,
   "metadata": {},
   "outputs": [],
   "source": [
    "## Passing values to the function\n",
    "sessions=min_null_values_action_type_detail(sessions,'action_type')"
   ]
  },
  {
   "cell_type": "code",
   "execution_count": 67,
   "metadata": {},
   "outputs": [],
   "source": [
    "sessions=min_null_values_action_type_detail(sessions,'action_detail')"
   ]
  },
  {
   "cell_type": "code",
   "execution_count": 68,
   "metadata": {},
   "outputs": [],
   "source": [
    "## Replacing null values to cols 'action_type' and 'action_detail'\n",
    "sessions.loc[sessions.action_type_x.isnull(),'action_type_x']=sessions.action_type_y"
   ]
  },
  {
   "cell_type": "code",
   "execution_count": 69,
   "metadata": {},
   "outputs": [],
   "source": [
    "sessions.loc[sessions.action_detail_x.isnull(),'action_detail_x']=sessions.action_detail_y"
   ]
  },
  {
   "cell_type": "code",
   "execution_count": 70,
   "metadata": {},
   "outputs": [],
   "source": [
    "## Assigning values of action_type_x and action_detail_x to features action_type and action_detail\n",
    "sessions['action_type']=sessions.action_type_x\n",
    "sessions['action_detail']=sessions.action_detail_x"
   ]
  },
  {
   "cell_type": "code",
   "execution_count": 71,
   "metadata": {},
   "outputs": [],
   "source": [
    "## Dropping few cols from Dataframe sessions\n",
    "sessions=sessions.drop(['action_type_x','action_detail_x','action_type_y','action_detail_y'],axis=1)"
   ]
  },
  {
   "cell_type": "code",
   "execution_count": 72,
   "metadata": {},
   "outputs": [
    {
     "data": {
      "text/plain": [
       "user_id               0\n",
       "action                0\n",
       "device_type           0\n",
       "secs_elapsed     151815\n",
       "action_type      415562\n",
       "action_detail    415562\n",
       "dtype: int64"
      ]
     },
     "execution_count": 72,
     "metadata": {},
     "output_type": "execute_result"
    }
   ],
   "source": [
    "## Checking for further null values in features of dataframe 'sessions'\n",
    "sessions.isnull().sum()"
   ]
  },
  {
   "cell_type": "code",
   "execution_count": 73,
   "metadata": {},
   "outputs": [],
   "source": [
    "''' Filling null values in column 'action_type' and 'action_detail' by using \n",
    "groupby 'action' inside a function min_null_values_action_type_detail\n",
    "'''\n",
    "def min_null_values_action_type_detail(df,feature):\n",
    "    new_df=pd.DataFrame(df.groupby(['action'])[feature].value_counts())\n",
    "    new_df.rename(columns={feature:'Count'},inplace=True)\n",
    "    new_df=new_df.reset_index()\n",
    "    new_df_max=pd.DataFrame(new_df.groupby(['action'])['Count'].max())\n",
    "    new_df_max=new_df_max.reset_index()\n",
    "    ## Merging two dataframes\n",
    "    new_df_max=new_df_max.merge(new_df,on=['action','Count'])\n",
    "    del new_df_max['Count']\n",
    "    ## Merge with main dataframe\n",
    "    df=df.merge(new_df_max,left_on=['action'],right_on=['action'],how='left')\n",
    "    return df"
   ]
  },
  {
   "cell_type": "code",
   "execution_count": 74,
   "metadata": {},
   "outputs": [],
   "source": [
    "## Passing values to the function\n",
    "sessions=min_null_values_action_type_detail(sessions,'action_type')"
   ]
  },
  {
   "cell_type": "code",
   "execution_count": 75,
   "metadata": {},
   "outputs": [],
   "source": [
    "sessions=min_null_values_action_type_detail(sessions,'action_detail')"
   ]
  },
  {
   "cell_type": "code",
   "execution_count": 76,
   "metadata": {},
   "outputs": [],
   "source": [
    "## Replacing null values to cols 'action_type' and 'action_detail'\n",
    "sessions.loc[sessions.action_type_x.isnull(),'action_type_x']=sessions.action_type_y"
   ]
  },
  {
   "cell_type": "code",
   "execution_count": 77,
   "metadata": {},
   "outputs": [],
   "source": [
    "sessions.loc[sessions.action_detail_x.isnull(),'action_detail_x']=sessions.action_detail_y"
   ]
  },
  {
   "cell_type": "code",
   "execution_count": 78,
   "metadata": {},
   "outputs": [],
   "source": [
    "## Assigning values of action_type_x and action_detail_x to features action_type and action_detail\n",
    "sessions['action_type']=sessions.action_type_x\n",
    "sessions['action_detail']=sessions.action_detail_x"
   ]
  },
  {
   "cell_type": "code",
   "execution_count": 79,
   "metadata": {},
   "outputs": [],
   "source": [
    "## Dropping few cols from Dataframe sessions\n",
    "sessions=sessions.drop(['action_type_x','action_detail_x','action_type_y','action_detail_y'],axis=1)"
   ]
  },
  {
   "cell_type": "code",
   "execution_count": 80,
   "metadata": {},
   "outputs": [
    {
     "data": {
      "text/plain": [
       "user_id               0\n",
       "action                0\n",
       "device_type           0\n",
       "secs_elapsed     151815\n",
       "action_type      415562\n",
       "action_detail    415562\n",
       "dtype: int64"
      ]
     },
     "execution_count": 80,
     "metadata": {},
     "output_type": "execute_result"
    }
   ],
   "source": [
    "## Checking for further null values in features of dataframe 'sessions'\n",
    "sessions.isnull().sum()"
   ]
  },
  {
   "cell_type": "code",
   "execution_count": 81,
   "metadata": {},
   "outputs": [],
   "source": [
    "## We can see 'Track Page View' and 'Lookup' actions having null value in entire dataset\n",
    "sessions.loc[sessions['action']=='lookup','action_type']='lookup'\n",
    "sessions.loc[sessions['action']=='lookup','action_detail']='lookup'"
   ]
  },
  {
   "cell_type": "code",
   "execution_count": 82,
   "metadata": {},
   "outputs": [],
   "source": [
    "sessions.loc[sessions['action']=='Track Page View','action_type']='Track Page View'\n",
    "sessions.loc[sessions['action']=='Track Page View','action_detail']='Track Page View'"
   ]
  },
  {
   "cell_type": "code",
   "execution_count": 83,
   "metadata": {},
   "outputs": [],
   "source": [
    "## Filling missing values using 'missing' in dataset\n",
    "sessions.action_type=sessions.action_type.fillna(\"missing\")\n",
    "sessions.action_detail=sessions.action_detail.fillna(\"missing\")"
   ]
  },
  {
   "cell_type": "code",
   "execution_count": 84,
   "metadata": {},
   "outputs": [
    {
     "data": {
      "text/plain": [
       "user_id               0\n",
       "action                0\n",
       "device_type           0\n",
       "secs_elapsed     151815\n",
       "action_type           0\n",
       "action_detail         0\n",
       "dtype: int64"
      ]
     },
     "execution_count": 84,
     "metadata": {},
     "output_type": "execute_result"
    }
   ],
   "source": [
    "## Checking for further null values in features of dataframe 'sessions'\n",
    "sessions.isnull().sum()"
   ]
  },
  {
   "cell_type": "code",
   "execution_count": 85,
   "metadata": {},
   "outputs": [
    {
     "data": {
      "text/plain": [
       "user_id          object\n",
       "action           object\n",
       "device_type      object\n",
       "secs_elapsed     object\n",
       "action_type      object\n",
       "action_detail    object\n",
       "dtype: object"
      ]
     },
     "execution_count": 85,
     "metadata": {},
     "output_type": "execute_result"
    }
   ],
   "source": [
    "sessions.dtypes"
   ]
  },
  {
   "cell_type": "code",
   "execution_count": 86,
   "metadata": {},
   "outputs": [],
   "source": [
    "## Changing datatype of feature 'secs_elapsed' to 'float'\n",
    "sessions['secs_elapsed']=sessions['secs_elapsed'].astype(float)"
   ]
  },
  {
   "cell_type": "code",
   "execution_count": 87,
   "metadata": {},
   "outputs": [],
   "source": [
    "## Filling null values in column 'secs_elapsed' by grouping 'action'\n",
    "def sum_values_secs_elapsed(df,feature):\n",
    "    nw_df=pd.DataFrame(df.groupby(['action'],as_index=False)['secs_elapsed'].median())\n",
    "    df=df.merge(nw_df,left_on=['action'],right_on=['action'],how='left')\n",
    "    return df"
   ]
  },
  {
   "cell_type": "code",
   "execution_count": 88,
   "metadata": {},
   "outputs": [],
   "source": [
    "## Passing values to the function\n",
    "sessions=sum_values_secs_elapsed(sessions,'secs_elapsed')"
   ]
  },
  {
   "cell_type": "code",
   "execution_count": 89,
   "metadata": {},
   "outputs": [],
   "source": [
    "# Replacing null values using col secs_elapsed_y\n",
    "sessions.loc[sessions.secs_elapsed_x.isnull(),'secs_elapsed_x']=sessions.secs_elapsed_y"
   ]
  },
  {
   "cell_type": "code",
   "execution_count": 90,
   "metadata": {},
   "outputs": [],
   "source": [
    "## Assigning values of secs_elapsed_x to secs_elapsed\n",
    "sessions['secs_elapsed']=sessions.secs_elapsed_x"
   ]
  },
  {
   "cell_type": "code",
   "execution_count": 91,
   "metadata": {},
   "outputs": [],
   "source": [
    "## Dropping cols in sessions\n",
    "sessions=sessions.drop(['secs_elapsed_x','secs_elapsed_y'],axis=1)"
   ]
  },
  {
   "cell_type": "code",
   "execution_count": 92,
   "metadata": {},
   "outputs": [],
   "source": [
    "''' Creating a new dataframe new_session by grouping various cols ['user_id','action','device_type','action_type','action_detail']\n",
    "and finding mean of 'secs_elapsed'\n",
    "'''\n",
    "new_session=pd.DataFrame(sessions.groupby(['user_id','action','device_type','action_type','action_detail'])['secs_elapsed'].mean())"
   ]
  },
  {
   "cell_type": "code",
   "execution_count": 93,
   "metadata": {},
   "outputs": [],
   "source": [
    "## Resetting the index\n",
    "new_session=new_session.reset_index()"
   ]
  },
  {
   "cell_type": "code",
   "execution_count": 94,
   "metadata": {},
   "outputs": [
    {
     "data": {
      "text/plain": [
       "Mac Desktop                         702508\n",
       "Windows Desktop                     556589\n",
       "iPhone                              351752\n",
       "iPad Tablet                         121552\n",
       "Android Phone                       109301\n",
       "-unknown-                            78780\n",
       "Android App Unknown Phone/Tablet     34375\n",
       "Tablet                               20926\n",
       "Linux Desktop                         7094\n",
       "Chromebook                            5519\n",
       "iPodtouch                             1143\n",
       "Windows Phone                          824\n",
       "Blackberry                             522\n",
       "Opera Phone                             28\n",
       "Name: device_type, dtype: int64"
      ]
     },
     "execution_count": 94,
     "metadata": {},
     "output_type": "execute_result"
    }
   ],
   "source": [
    "## Counting values in feature 'device_type'\n",
    "new_session['device_type'].value_counts()"
   ]
  },
  {
   "cell_type": "code",
   "execution_count": 95,
   "metadata": {},
   "outputs": [],
   "source": [
    "## Seggregating device_types into respective categories by reducing categories in a list\n",
    "apple_device=['Mac Desktop','iPhone','iPad Tablet','iPodtouch']\n",
    "android_device=['Android Phone','Android App Unknown Phone/Tablet','Tablet']\n",
    "windows_device=['Windows Desktop','Windows Phone']\n",
    "other_device=['Linux Desktop','Chromebook','Blackberry','Opera Phone']"
   ]
  },
  {
   "cell_type": "code",
   "execution_count": 96,
   "metadata": {},
   "outputs": [],
   "source": [
    "## Creating a dictionary by appending values of list\n",
    "device_types={'apple_device':apple_device,\n",
    "             'android_device':android_device,\n",
    "             'windows_device':windows_device,\n",
    "             'other_device':other_device}"
   ]
  },
  {
   "cell_type": "code",
   "execution_count": 97,
   "metadata": {},
   "outputs": [],
   "source": [
    "## Creating columns for key cols and naming in form of 0 and 1\n",
    "for device in device_types:\n",
    "    new_session[device]=0\n",
    "    new_session.loc[new_session.device_type.isin(device_types[device]),device]=1"
   ]
  },
  {
   "cell_type": "code",
   "execution_count": 98,
   "metadata": {},
   "outputs": [],
   "source": [
    "## Dropping col 'device_type' from dataframe new_session\n",
    "new_session=new_session.drop(['device_type'],axis=1)"
   ]
  },
  {
   "cell_type": "code",
   "execution_count": 99,
   "metadata": {},
   "outputs": [],
   "source": [
    "## Finding out the duration the time user spends on a website\n",
    "time_spent=pd.DataFrame(sessions.groupby(['user_id'])['secs_elapsed'].sum())"
   ]
  },
  {
   "cell_type": "code",
   "execution_count": 100,
   "metadata": {},
   "outputs": [
    {
     "data": {
      "text/html": [
       "<div>\n",
       "<style scoped>\n",
       "    .dataframe tbody tr th:only-of-type {\n",
       "        vertical-align: middle;\n",
       "    }\n",
       "\n",
       "    .dataframe tbody tr th {\n",
       "        vertical-align: top;\n",
       "    }\n",
       "\n",
       "    .dataframe thead th {\n",
       "        text-align: right;\n",
       "    }\n",
       "</style>\n",
       "<table border=\"1\" class=\"dataframe\">\n",
       "  <thead>\n",
       "    <tr style=\"text-align: right;\">\n",
       "      <th></th>\n",
       "      <th>user_id</th>\n",
       "      <th>secs_elapsed</th>\n",
       "    </tr>\n",
       "  </thead>\n",
       "  <tbody>\n",
       "    <tr>\n",
       "      <th>0</th>\n",
       "      <td>00023iyk9l</td>\n",
       "      <td>751750.0</td>\n",
       "    </tr>\n",
       "    <tr>\n",
       "      <th>1</th>\n",
       "      <td>0010k6l0om</td>\n",
       "      <td>600214.0</td>\n",
       "    </tr>\n",
       "    <tr>\n",
       "      <th>2</th>\n",
       "      <td>001wyh0pz8</td>\n",
       "      <td>311994.5</td>\n",
       "    </tr>\n",
       "    <tr>\n",
       "      <th>3</th>\n",
       "      <td>0028jgx1x1</td>\n",
       "      <td>311760.5</td>\n",
       "    </tr>\n",
       "    <tr>\n",
       "      <th>4</th>\n",
       "      <td>002qnbzfs5</td>\n",
       "      <td>6463599.0</td>\n",
       "    </tr>\n",
       "    <tr>\n",
       "      <th>5</th>\n",
       "      <td>0031awlkjq</td>\n",
       "      <td>67098.5</td>\n",
       "    </tr>\n",
       "    <tr>\n",
       "      <th>6</th>\n",
       "      <td>0035hobuyj</td>\n",
       "      <td>5485333.5</td>\n",
       "    </tr>\n",
       "    <tr>\n",
       "      <th>7</th>\n",
       "      <td>00378ocvlh</td>\n",
       "      <td>1237735.5</td>\n",
       "    </tr>\n",
       "    <tr>\n",
       "      <th>8</th>\n",
       "      <td>00389675gq</td>\n",
       "      <td>3097484.0</td>\n",
       "    </tr>\n",
       "    <tr>\n",
       "      <th>9</th>\n",
       "      <td>003iamz20l</td>\n",
       "      <td>1604986.5</td>\n",
       "    </tr>\n",
       "    <tr>\n",
       "      <th>10</th>\n",
       "      <td>0048rkdgb1</td>\n",
       "      <td>344602.5</td>\n",
       "    </tr>\n",
       "    <tr>\n",
       "      <th>11</th>\n",
       "      <td>0057snrdpu</td>\n",
       "      <td>1367841.5</td>\n",
       "    </tr>\n",
       "    <tr>\n",
       "      <th>12</th>\n",
       "      <td>005jc3nbmb</td>\n",
       "      <td>2793945.0</td>\n",
       "    </tr>\n",
       "    <tr>\n",
       "      <th>13</th>\n",
       "      <td>005v5uf4dh</td>\n",
       "      <td>192529.5</td>\n",
       "    </tr>\n",
       "    <tr>\n",
       "      <th>14</th>\n",
       "      <td>0063bawn05</td>\n",
       "      <td>3150797.5</td>\n",
       "    </tr>\n",
       "    <tr>\n",
       "      <th>15</th>\n",
       "      <td>006ml14zc1</td>\n",
       "      <td>212895.5</td>\n",
       "    </tr>\n",
       "    <tr>\n",
       "      <th>16</th>\n",
       "      <td>006mls2sjw</td>\n",
       "      <td>2519354.0</td>\n",
       "    </tr>\n",
       "    <tr>\n",
       "      <th>17</th>\n",
       "      <td>006t3vhawl</td>\n",
       "      <td>812603.0</td>\n",
       "    </tr>\n",
       "    <tr>\n",
       "      <th>18</th>\n",
       "      <td>006z8b0uws</td>\n",
       "      <td>351746.5</td>\n",
       "    </tr>\n",
       "    <tr>\n",
       "      <th>19</th>\n",
       "      <td>0075z9e9xv</td>\n",
       "      <td>3515443.5</td>\n",
       "    </tr>\n",
       "    <tr>\n",
       "      <th>20</th>\n",
       "      <td>007gj7kqdk</td>\n",
       "      <td>692287.0</td>\n",
       "    </tr>\n",
       "    <tr>\n",
       "      <th>21</th>\n",
       "      <td>009a40t3dk</td>\n",
       "      <td>2338803.0</td>\n",
       "    </tr>\n",
       "    <tr>\n",
       "      <th>22</th>\n",
       "      <td>00a8dbifj8</td>\n",
       "      <td>523720.5</td>\n",
       "    </tr>\n",
       "    <tr>\n",
       "      <th>23</th>\n",
       "      <td>00allnceb8</td>\n",
       "      <td>14750.5</td>\n",
       "    </tr>\n",
       "    <tr>\n",
       "      <th>24</th>\n",
       "      <td>00an0o6c07</td>\n",
       "      <td>463186.0</td>\n",
       "    </tr>\n",
       "    <tr>\n",
       "      <th>25</th>\n",
       "      <td>00b9hfwaak</td>\n",
       "      <td>903759.5</td>\n",
       "    </tr>\n",
       "    <tr>\n",
       "      <th>26</th>\n",
       "      <td>00bn6hu437</td>\n",
       "      <td>1448448.0</td>\n",
       "    </tr>\n",
       "    <tr>\n",
       "      <th>27</th>\n",
       "      <td>00bowi9sn3</td>\n",
       "      <td>90318.5</td>\n",
       "    </tr>\n",
       "    <tr>\n",
       "      <th>28</th>\n",
       "      <td>00bqkh0g5i</td>\n",
       "      <td>14545.0</td>\n",
       "    </tr>\n",
       "    <tr>\n",
       "      <th>29</th>\n",
       "      <td>00bxmflswn</td>\n",
       "      <td>3372656.0</td>\n",
       "    </tr>\n",
       "    <tr>\n",
       "      <th>...</th>\n",
       "      <td>...</td>\n",
       "      <td>...</td>\n",
       "    </tr>\n",
       "    <tr>\n",
       "      <th>135013</th>\n",
       "      <td>zzq90ckj2z</td>\n",
       "      <td>1043424.0</td>\n",
       "    </tr>\n",
       "    <tr>\n",
       "      <th>135014</th>\n",
       "      <td>zzqb2sn066</td>\n",
       "      <td>608360.5</td>\n",
       "    </tr>\n",
       "    <tr>\n",
       "      <th>135015</th>\n",
       "      <td>zzr1rkdsh9</td>\n",
       "      <td>2119815.5</td>\n",
       "    </tr>\n",
       "    <tr>\n",
       "      <th>135016</th>\n",
       "      <td>zzrnx9rqi5</td>\n",
       "      <td>422891.0</td>\n",
       "    </tr>\n",
       "    <tr>\n",
       "      <th>135017</th>\n",
       "      <td>zzsoxtv8zb</td>\n",
       "      <td>3054866.0</td>\n",
       "    </tr>\n",
       "    <tr>\n",
       "      <th>135018</th>\n",
       "      <td>zzsslqqkee</td>\n",
       "      <td>534751.5</td>\n",
       "    </tr>\n",
       "    <tr>\n",
       "      <th>135019</th>\n",
       "      <td>zzsszlux3t</td>\n",
       "      <td>976.0</td>\n",
       "    </tr>\n",
       "    <tr>\n",
       "      <th>135020</th>\n",
       "      <td>zzswqjsqy4</td>\n",
       "      <td>1513555.5</td>\n",
       "    </tr>\n",
       "    <tr>\n",
       "      <th>135021</th>\n",
       "      <td>zzt5gpsyqa</td>\n",
       "      <td>1248037.5</td>\n",
       "    </tr>\n",
       "    <tr>\n",
       "      <th>135022</th>\n",
       "      <td>zzt8w28nl5</td>\n",
       "      <td>2109699.5</td>\n",
       "    </tr>\n",
       "    <tr>\n",
       "      <th>135023</th>\n",
       "      <td>zztaeo9wd5</td>\n",
       "      <td>685396.5</td>\n",
       "    </tr>\n",
       "    <tr>\n",
       "      <th>135024</th>\n",
       "      <td>zztkv1gkse</td>\n",
       "      <td>534474.5</td>\n",
       "    </tr>\n",
       "    <tr>\n",
       "      <th>135025</th>\n",
       "      <td>zzu3u71odh</td>\n",
       "      <td>442121.5</td>\n",
       "    </tr>\n",
       "    <tr>\n",
       "      <th>135026</th>\n",
       "      <td>zzu6ezwap2</td>\n",
       "      <td>622029.5</td>\n",
       "    </tr>\n",
       "    <tr>\n",
       "      <th>135027</th>\n",
       "      <td>zzunwylrfv</td>\n",
       "      <td>7080767.5</td>\n",
       "    </tr>\n",
       "    <tr>\n",
       "      <th>135028</th>\n",
       "      <td>zzuy4rvdki</td>\n",
       "      <td>124742.0</td>\n",
       "    </tr>\n",
       "    <tr>\n",
       "      <th>135029</th>\n",
       "      <td>zzv6z6rjr9</td>\n",
       "      <td>1429954.0</td>\n",
       "    </tr>\n",
       "    <tr>\n",
       "      <th>135030</th>\n",
       "      <td>zzv8sgicbk</td>\n",
       "      <td>527286.0</td>\n",
       "    </tr>\n",
       "    <tr>\n",
       "      <th>135031</th>\n",
       "      <td>zzvatt4dio</td>\n",
       "      <td>11753132.0</td>\n",
       "    </tr>\n",
       "    <tr>\n",
       "      <th>135032</th>\n",
       "      <td>zzvg4emw5w</td>\n",
       "      <td>3080679.5</td>\n",
       "    </tr>\n",
       "    <tr>\n",
       "      <th>135033</th>\n",
       "      <td>zzvr84im58</td>\n",
       "      <td>76501.0</td>\n",
       "    </tr>\n",
       "    <tr>\n",
       "      <th>135034</th>\n",
       "      <td>zzw7kydxfa</td>\n",
       "      <td>1031.0</td>\n",
       "    </tr>\n",
       "    <tr>\n",
       "      <th>135035</th>\n",
       "      <td>zzx06inhbv</td>\n",
       "      <td>6281.0</td>\n",
       "    </tr>\n",
       "    <tr>\n",
       "      <th>135036</th>\n",
       "      <td>zzx0hfd74v</td>\n",
       "      <td>212219.0</td>\n",
       "    </tr>\n",
       "    <tr>\n",
       "      <th>135037</th>\n",
       "      <td>zzx5wp3lqu</td>\n",
       "      <td>515737.0</td>\n",
       "    </tr>\n",
       "    <tr>\n",
       "      <th>135038</th>\n",
       "      <td>zzxox7jnrx</td>\n",
       "      <td>653107.0</td>\n",
       "    </tr>\n",
       "    <tr>\n",
       "      <th>135039</th>\n",
       "      <td>zzy7t0y9cm</td>\n",
       "      <td>88521.5</td>\n",
       "    </tr>\n",
       "    <tr>\n",
       "      <th>135040</th>\n",
       "      <td>zzysuoqg6x</td>\n",
       "      <td>16481.5</td>\n",
       "    </tr>\n",
       "    <tr>\n",
       "      <th>135041</th>\n",
       "      <td>zzywmcn0jv</td>\n",
       "      <td>1563380.5</td>\n",
       "    </tr>\n",
       "    <tr>\n",
       "      <th>135042</th>\n",
       "      <td>zzzlylp57e</td>\n",
       "      <td>436843.5</td>\n",
       "    </tr>\n",
       "  </tbody>\n",
       "</table>\n",
       "<p>135043 rows × 2 columns</p>\n",
       "</div>"
      ],
      "text/plain": [
       "           user_id  secs_elapsed\n",
       "0       00023iyk9l      751750.0\n",
       "1       0010k6l0om      600214.0\n",
       "2       001wyh0pz8      311994.5\n",
       "3       0028jgx1x1      311760.5\n",
       "4       002qnbzfs5     6463599.0\n",
       "5       0031awlkjq       67098.5\n",
       "6       0035hobuyj     5485333.5\n",
       "7       00378ocvlh     1237735.5\n",
       "8       00389675gq     3097484.0\n",
       "9       003iamz20l     1604986.5\n",
       "10      0048rkdgb1      344602.5\n",
       "11      0057snrdpu     1367841.5\n",
       "12      005jc3nbmb     2793945.0\n",
       "13      005v5uf4dh      192529.5\n",
       "14      0063bawn05     3150797.5\n",
       "15      006ml14zc1      212895.5\n",
       "16      006mls2sjw     2519354.0\n",
       "17      006t3vhawl      812603.0\n",
       "18      006z8b0uws      351746.5\n",
       "19      0075z9e9xv     3515443.5\n",
       "20      007gj7kqdk      692287.0\n",
       "21      009a40t3dk     2338803.0\n",
       "22      00a8dbifj8      523720.5\n",
       "23      00allnceb8       14750.5\n",
       "24      00an0o6c07      463186.0\n",
       "25      00b9hfwaak      903759.5\n",
       "26      00bn6hu437     1448448.0\n",
       "27      00bowi9sn3       90318.5\n",
       "28      00bqkh0g5i       14545.0\n",
       "29      00bxmflswn     3372656.0\n",
       "...            ...           ...\n",
       "135013  zzq90ckj2z     1043424.0\n",
       "135014  zzqb2sn066      608360.5\n",
       "135015  zzr1rkdsh9     2119815.5\n",
       "135016  zzrnx9rqi5      422891.0\n",
       "135017  zzsoxtv8zb     3054866.0\n",
       "135018  zzsslqqkee      534751.5\n",
       "135019  zzsszlux3t         976.0\n",
       "135020  zzswqjsqy4     1513555.5\n",
       "135021  zzt5gpsyqa     1248037.5\n",
       "135022  zzt8w28nl5     2109699.5\n",
       "135023  zztaeo9wd5      685396.5\n",
       "135024  zztkv1gkse      534474.5\n",
       "135025  zzu3u71odh      442121.5\n",
       "135026  zzu6ezwap2      622029.5\n",
       "135027  zzunwylrfv     7080767.5\n",
       "135028  zzuy4rvdki      124742.0\n",
       "135029  zzv6z6rjr9     1429954.0\n",
       "135030  zzv8sgicbk      527286.0\n",
       "135031  zzvatt4dio    11753132.0\n",
       "135032  zzvg4emw5w     3080679.5\n",
       "135033  zzvr84im58       76501.0\n",
       "135034  zzw7kydxfa        1031.0\n",
       "135035  zzx06inhbv        6281.0\n",
       "135036  zzx0hfd74v      212219.0\n",
       "135037  zzx5wp3lqu      515737.0\n",
       "135038  zzxox7jnrx      653107.0\n",
       "135039  zzy7t0y9cm       88521.5\n",
       "135040  zzysuoqg6x       16481.5\n",
       "135041  zzywmcn0jv     1563380.5\n",
       "135042  zzzlylp57e      436843.5\n",
       "\n",
       "[135043 rows x 2 columns]"
      ]
     },
     "execution_count": 100,
     "metadata": {},
     "output_type": "execute_result"
    }
   ],
   "source": [
    "## Resetting index in dataframe time_spent\n",
    "time_spent.reset_index()"
   ]
  },
  {
   "cell_type": "code",
   "execution_count": 101,
   "metadata": {},
   "outputs": [],
   "source": [
    "## Merging time_spent dataframe with new_session dataframe\n",
    "new_session=new_session.merge(time_spent,left_on='user_id',right_on='user_id',how='left')"
   ]
  },
  {
   "cell_type": "code",
   "execution_count": 102,
   "metadata": {},
   "outputs": [],
   "source": [
    "new_session['duration']=new_session.secs_elapsed_y"
   ]
  },
  {
   "cell_type": "code",
   "execution_count": 103,
   "metadata": {},
   "outputs": [],
   "source": [
    "## Dropping cols in new_session\n",
    "new_session=new_session.drop(['secs_elapsed_x','secs_elapsed_y'],axis=1)"
   ]
  },
  {
   "cell_type": "code",
   "execution_count": 104,
   "metadata": {},
   "outputs": [],
   "source": [
    "## Dropping duplicates in dataframe new_session\n",
    "new_session=new_session.drop_duplicates()"
   ]
  },
  {
   "cell_type": "code",
   "execution_count": 105,
   "metadata": {},
   "outputs": [
    {
     "data": {
      "text/plain": [
       "user_id           0\n",
       "action            0\n",
       "action_type       0\n",
       "action_detail     0\n",
       "apple_device      0\n",
       "android_device    0\n",
       "windows_device    0\n",
       "other_device      0\n",
       "duration          0\n",
       "dtype: int64"
      ]
     },
     "execution_count": 105,
     "metadata": {},
     "output_type": "execute_result"
    }
   ],
   "source": [
    "## Checking null values in dataframe new_session\n",
    "new_session.isnull().sum()"
   ]
  },
  {
   "cell_type": "code",
   "execution_count": 106,
   "metadata": {},
   "outputs": [],
   "source": [
    "## Merging new_session with dataframe data[train_users_2]\n",
    "train1=data['train_users_2'].merge(new_session,left_on=data['train_users_2']['id'],right_on=new_session['user_id'],how='inner')"
   ]
  },
  {
   "cell_type": "code",
   "execution_count": 107,
   "metadata": {},
   "outputs": [],
   "source": [
    "## User_id not present in data['train_users_2']\n",
    "train2=data['train_users_2'][train1 !='id']"
   ]
  },
  {
   "cell_type": "code",
   "execution_count": 108,
   "metadata": {},
   "outputs": [],
   "source": [
    "## Concatenate 2 dataframes train1 and train2 into train\n",
    "train=pd.concat([train1,train2],sort=True)"
   ]
  },
  {
   "cell_type": "code",
   "execution_count": 109,
   "metadata": {},
   "outputs": [],
   "source": [
    "## Merging new_session with dataframe data[test_users]\n",
    "test1=data['test_users'].merge(new_session,left_on=data['test_users']['id'],right_on=new_session['user_id'],how='inner')"
   ]
  },
  {
   "cell_type": "code",
   "execution_count": 110,
   "metadata": {},
   "outputs": [],
   "source": [
    "## User_id not present in data['test_users']\n",
    "test2=data['test_users'][test1!='id']"
   ]
  },
  {
   "cell_type": "code",
   "execution_count": 111,
   "metadata": {},
   "outputs": [],
   "source": [
    "test=pd.concat([test1,test2],sort=True)"
   ]
  },
  {
   "cell_type": "code",
   "execution_count": 112,
   "metadata": {},
   "outputs": [],
   "source": [
    "## Combining train and test dataframes together\n",
    "df=pd.concat([train,test],sort=True)"
   ]
  },
  {
   "cell_type": "code",
   "execution_count": 113,
   "metadata": {},
   "outputs": [],
   "source": [
    "## Dropping user_id and key_0 similar to id\n",
    "df=df.drop(['key_0','user_id','first_device_type'],axis=1)"
   ]
  },
  {
   "cell_type": "code",
   "execution_count": 114,
   "metadata": {},
   "outputs": [
    {
     "data": {
      "text/plain": [
       "action                      275547\n",
       "action_detail               275547\n",
       "action_type                 275547\n",
       "affiliate_channel                0\n",
       "affiliate_provider               0\n",
       "age                         840234\n",
       "android_device              275547\n",
       "apple_device                275547\n",
       "country_destination         998276\n",
       "date_account_created             0\n",
       "date_first_booking         1680309\n",
       "duration                    275547\n",
       "first_affiliate_tracked       6709\n",
       "first_browser                    0\n",
       "gender                           0\n",
       "id                               0\n",
       "language                        48\n",
       "other_device                275547\n",
       "signup_app                       0\n",
       "signup_flow                      0\n",
       "signup_method                    0\n",
       "timestamp_first_active           0\n",
       "windows_device              275547\n",
       "dtype: int64"
      ]
     },
     "execution_count": 114,
     "metadata": {},
     "output_type": "execute_result"
    }
   ],
   "source": [
    "## Checking for null values in dataframe df\n",
    "df.isnull().sum()"
   ]
  },
  {
   "cell_type": "code",
   "execution_count": 115,
   "metadata": {},
   "outputs": [],
   "source": [
    "## Replacing null values by 0 in list cols\n",
    "cols=['android_device','apple_device','duration','windows_device','other_device']\n",
    "df[cols]=df[cols].fillna(0)"
   ]
  },
  {
   "cell_type": "code",
   "execution_count": 116,
   "metadata": {},
   "outputs": [
    {
     "data": {
      "text/plain": [
       "action                      275547\n",
       "action_detail               275547\n",
       "action_type                 275547\n",
       "affiliate_channel                0\n",
       "affiliate_provider               0\n",
       "age                         840234\n",
       "android_device                   0\n",
       "apple_device                     0\n",
       "country_destination         998276\n",
       "date_account_created             0\n",
       "date_first_booking         1680309\n",
       "duration                         0\n",
       "first_affiliate_tracked       6709\n",
       "first_browser                    0\n",
       "gender                           0\n",
       "id                               0\n",
       "language                        48\n",
       "other_device                     0\n",
       "signup_app                       0\n",
       "signup_flow                      0\n",
       "signup_method                    0\n",
       "timestamp_first_active           0\n",
       "windows_device                   0\n",
       "dtype: int64"
      ]
     },
     "execution_count": 116,
     "metadata": {},
     "output_type": "execute_result"
    }
   ],
   "source": [
    "## Finding out null values in dataframe df\n",
    "df.isnull().sum()"
   ]
  },
  {
   "cell_type": "code",
   "execution_count": 117,
   "metadata": {},
   "outputs": [],
   "source": [
    "## Replace null values using \"missing\" in list col1\n",
    "col1=['action','action_type','action_detail']\n",
    "df[col1]=df[col1].fillna(\"missing\")"
   ]
  },
  {
   "cell_type": "code",
   "execution_count": 118,
   "metadata": {},
   "outputs": [
    {
     "data": {
      "text/plain": [
       "action                           0\n",
       "action_detail                    0\n",
       "action_type                      0\n",
       "affiliate_channel                0\n",
       "affiliate_provider               0\n",
       "age                         840234\n",
       "android_device                   0\n",
       "apple_device                     0\n",
       "country_destination         998276\n",
       "date_account_created             0\n",
       "date_first_booking         1680309\n",
       "duration                         0\n",
       "first_affiliate_tracked       6709\n",
       "first_browser                    0\n",
       "gender                           0\n",
       "id                               0\n",
       "language                        48\n",
       "other_device                     0\n",
       "signup_app                       0\n",
       "signup_flow                      0\n",
       "signup_method                    0\n",
       "timestamp_first_active           0\n",
       "windows_device                   0\n",
       "dtype: int64"
      ]
     },
     "execution_count": 118,
     "metadata": {},
     "output_type": "execute_result"
    }
   ],
   "source": [
    "## Finding out null values in dataframe df\n",
    "df.isnull().sum()"
   ]
  },
  {
   "cell_type": "code",
   "execution_count": 119,
   "metadata": {},
   "outputs": [
    {
     "data": {
      "text/plain": [
       "NDF      32\n",
       "US        9\n",
       "other     3\n",
       "GB        2\n",
       "CA        1\n",
       "IT        1\n",
       "Name: country_destination, dtype: int64"
      ]
     },
     "execution_count": 119,
     "metadata": {},
     "output_type": "execute_result"
    }
   ],
   "source": [
    "## Checking language col being null belong to which country_destination\n",
    "df[df.language.isnull()].country_destination.value_counts()"
   ]
  },
  {
   "cell_type": "code",
   "execution_count": 120,
   "metadata": {},
   "outputs": [],
   "source": [
    "def min_language_null_values(frame,feature):\n",
    "    n_df=pd.DataFrame(frame.groupby(['country_destination'])['language'].value_counts())\n",
    "    n_df.rename(columns={'language':'count'},inplace=True)\n",
    "    n_df=n_df.reset_index()\n",
    "    n_df_new=pd.DataFrame(n_df.groupby(['country_destination'])['count'].max())\n",
    "    n_df_new=n_df_new.reset_index()\n",
    "    ## Merging two dataframes\n",
    "    n_df_new=n_df_new.merge(n_df,on=['country_destination','count'])\n",
    "    ## Merging with main dataframe\n",
    "    frame=frame.merge(n_df_new,left_on=['country_destination'],right_on=['country_destination'],how='left')\n",
    "    return frame"
   ]
  },
  {
   "cell_type": "code",
   "execution_count": 121,
   "metadata": {},
   "outputs": [],
   "source": [
    "## Passing values to function min_language_null_values\n",
    "df=min_language_null_values(df,'language')"
   ]
  },
  {
   "cell_type": "code",
   "execution_count": 122,
   "metadata": {},
   "outputs": [],
   "source": [
    "# Replacing null values using col language_y\n",
    "df.loc[df.language_x.isnull(),'language_x']=df.language_y"
   ]
  },
  {
   "cell_type": "code",
   "execution_count": 123,
   "metadata": {},
   "outputs": [],
   "source": [
    "## Assigning values of col language_x to col language\n",
    "df['language']=df.language_x"
   ]
  },
  {
   "cell_type": "code",
   "execution_count": 124,
   "metadata": {},
   "outputs": [],
   "source": [
    "## Dropping cols from dataframe\n",
    "df=df.drop(['language_x','language_y','count'],axis=1)"
   ]
  },
  {
   "cell_type": "code",
   "execution_count": 125,
   "metadata": {},
   "outputs": [
    {
     "data": {
      "text/plain": [
       "action                           0\n",
       "action_detail                    0\n",
       "action_type                      0\n",
       "affiliate_channel                0\n",
       "affiliate_provider               0\n",
       "age                         840234\n",
       "android_device                   0\n",
       "apple_device                     0\n",
       "country_destination         998276\n",
       "date_account_created             0\n",
       "date_first_booking         1680309\n",
       "duration                         0\n",
       "first_affiliate_tracked       6709\n",
       "first_browser                    0\n",
       "gender                           0\n",
       "id                               0\n",
       "other_device                     0\n",
       "signup_app                       0\n",
       "signup_flow                      0\n",
       "signup_method                    0\n",
       "timestamp_first_active           0\n",
       "windows_device                   0\n",
       "language                         0\n",
       "dtype: int64"
      ]
     },
     "execution_count": 125,
     "metadata": {},
     "output_type": "execute_result"
    }
   ],
   "source": [
    "## Checking for null values in dataframe df\n",
    "df.isnull().sum()"
   ]
  },
  {
   "cell_type": "code",
   "execution_count": 126,
   "metadata": {},
   "outputs": [
    {
     "data": {
      "text/plain": [
       "direct           3878\n",
       "sem-non-brand     816\n",
       "api               705\n",
       "other             640\n",
       "sem-brand         262\n",
       "seo               209\n",
       "content           161\n",
       "remarketing        38\n",
       "Name: affiliate_channel, dtype: int64"
      ]
     },
     "execution_count": 126,
     "metadata": {},
     "output_type": "execute_result"
    }
   ],
   "source": [
    "## Finding out null values in col first_affiliate_tracked\n",
    "df[df.first_affiliate_tracked.isnull()]['affiliate_channel'].value_counts()"
   ]
  },
  {
   "cell_type": "code",
   "execution_count": 127,
   "metadata": {},
   "outputs": [],
   "source": [
    "## Filling null values in first_affiliate_tracked\n",
    "def min_first_affiliate_null(frame,feature):\n",
    "    nf_frame=pd.DataFrame(frame.groupby(['affiliate_channel','affiliate_provider'])['first_affiliate_tracked'].value_counts())\n",
    "    nf_frame.rename(columns={'first_affiliate_tracked':'count'},inplace=True)\n",
    "    nf_frame=nf_frame.reset_index()\n",
    "    ## Finding max value in it\n",
    "    nf_frame_max=pd.DataFrame(nf_frame.groupby(['affiliate_channel','affiliate_provider'])['count'].max())\n",
    "    ## Resetting the index of dataframe nf_frame_max\n",
    "    nf_frame_max.reset_index()\n",
    "    ## Merging two dataframes\n",
    "    nf_frame_max=nf_frame_max.merge(nf_frame,on=['affiliate_channel','affiliate_provider','count'])\n",
    "    ## Merging with main dataframe\n",
    "    frame=frame.merge(nf_frame_max,left_on=['affiliate_channel','affiliate_provider'],right_on=['affiliate_channel','affiliate_provider'],how='left')\n",
    "    return frame"
   ]
  },
  {
   "cell_type": "code",
   "execution_count": 128,
   "metadata": {},
   "outputs": [],
   "source": [
    "df=min_first_affiliate_null(df,'first_affiliate_tracked')"
   ]
  },
  {
   "cell_type": "code",
   "execution_count": 129,
   "metadata": {},
   "outputs": [],
   "source": [
    "## Replacing null values in 'first_affiliate_tracked_x' \n",
    "df.loc[df.first_affiliate_tracked_x.isnull(),'first_affiliate_tracked_x']=df.first_affiliate_tracked_y"
   ]
  },
  {
   "cell_type": "code",
   "execution_count": 130,
   "metadata": {},
   "outputs": [],
   "source": [
    "## Assigning values of 'first_affiliate_tracked_x' to col 'first_affiliate_tracked'\n",
    "df['first_affiliate_tracked']=df.first_affiliate_tracked_x"
   ]
  },
  {
   "cell_type": "code",
   "execution_count": 131,
   "metadata": {},
   "outputs": [],
   "source": [
    "## Dropping cols from dataframe df\n",
    "df=df.drop(['first_affiliate_tracked_x','first_affiliate_tracked_y'],axis=1)"
   ]
  },
  {
   "cell_type": "code",
   "execution_count": 132,
   "metadata": {},
   "outputs": [
    {
     "data": {
      "text/plain": [
       "action                           0\n",
       "action_detail                    0\n",
       "action_type                      0\n",
       "affiliate_channel                0\n",
       "affiliate_provider               0\n",
       "age                         840234\n",
       "android_device                   0\n",
       "apple_device                     0\n",
       "country_destination         998276\n",
       "date_account_created             0\n",
       "date_first_booking         1680309\n",
       "duration                         0\n",
       "first_browser                    0\n",
       "gender                           0\n",
       "id                               0\n",
       "other_device                     0\n",
       "signup_app                       0\n",
       "signup_flow                      0\n",
       "signup_method                    0\n",
       "timestamp_first_active           0\n",
       "windows_device                   0\n",
       "language                         0\n",
       "count                            0\n",
       "first_affiliate_tracked          0\n",
       "dtype: int64"
      ]
     },
     "execution_count": 132,
     "metadata": {},
     "output_type": "execute_result"
    }
   ],
   "source": [
    "## Checking for null values in dataframe df\n",
    "df.isnull().sum()"
   ]
  },
  {
   "cell_type": "code",
   "execution_count": 133,
   "metadata": {},
   "outputs": [],
   "source": [
    "## Filling null values in col 'date_first_booking'\n",
    "df['date_first_booking']=df['date_first_booking'].fillna(df['date_first_booking'].mode()[0])"
   ]
  },
  {
   "cell_type": "code",
   "execution_count": 134,
   "metadata": {},
   "outputs": [
    {
     "data": {
      "text/plain": [
       "action                          0\n",
       "action_detail                   0\n",
       "action_type                     0\n",
       "affiliate_channel               0\n",
       "affiliate_provider              0\n",
       "age                        840234\n",
       "android_device                  0\n",
       "apple_device                    0\n",
       "country_destination        998276\n",
       "date_account_created            0\n",
       "date_first_booking              0\n",
       "duration                        0\n",
       "first_browser                   0\n",
       "gender                          0\n",
       "id                              0\n",
       "other_device                    0\n",
       "signup_app                      0\n",
       "signup_flow                     0\n",
       "signup_method                   0\n",
       "timestamp_first_active          0\n",
       "windows_device                  0\n",
       "language                        0\n",
       "count                           0\n",
       "first_affiliate_tracked         0\n",
       "dtype: int64"
      ]
     },
     "execution_count": 134,
     "metadata": {},
     "output_type": "execute_result"
    }
   ],
   "source": [
    "## Checking for null values in dataframe df\n",
    "df.isnull().sum()"
   ]
  },
  {
   "cell_type": "code",
   "execution_count": 135,
   "metadata": {},
   "outputs": [],
   "source": [
    "## Filling null values in age column\n",
    "df['age']=df['age'].fillna(df['age'].mode()[0])"
   ]
  },
  {
   "cell_type": "code",
   "execution_count": 136,
   "metadata": {},
   "outputs": [
    {
     "data": {
      "text/plain": [
       "action                          0\n",
       "action_detail                   0\n",
       "action_type                     0\n",
       "affiliate_channel               0\n",
       "affiliate_provider              0\n",
       "age                             0\n",
       "android_device                  0\n",
       "apple_device                    0\n",
       "country_destination        998276\n",
       "date_account_created            0\n",
       "date_first_booking              0\n",
       "duration                        0\n",
       "first_browser                   0\n",
       "gender                          0\n",
       "id                              0\n",
       "other_device                    0\n",
       "signup_app                      0\n",
       "signup_flow                     0\n",
       "signup_method                   0\n",
       "timestamp_first_active          0\n",
       "windows_device                  0\n",
       "language                        0\n",
       "count                           0\n",
       "first_affiliate_tracked         0\n",
       "dtype: int64"
      ]
     },
     "execution_count": 136,
     "metadata": {},
     "output_type": "execute_result"
    }
   ],
   "source": [
    "## Checking for null values in dataframe df\n",
    "df.isnull().sum()"
   ]
  },
  {
   "cell_type": "code",
   "execution_count": 137,
   "metadata": {},
   "outputs": [],
   "source": [
    "## Filling null values in country_destination column\n",
    "df['country_destination']=df['country_destination'].fillna(df['country_destination'].mode()[0])"
   ]
  },
  {
   "cell_type": "code",
   "execution_count": 138,
   "metadata": {},
   "outputs": [
    {
     "data": {
      "text/plain": [
       "action                     0\n",
       "action_detail              0\n",
       "action_type                0\n",
       "affiliate_channel          0\n",
       "affiliate_provider         0\n",
       "age                        0\n",
       "android_device             0\n",
       "apple_device               0\n",
       "country_destination        0\n",
       "date_account_created       0\n",
       "date_first_booking         0\n",
       "duration                   0\n",
       "first_browser              0\n",
       "gender                     0\n",
       "id                         0\n",
       "other_device               0\n",
       "signup_app                 0\n",
       "signup_flow                0\n",
       "signup_method              0\n",
       "timestamp_first_active     0\n",
       "windows_device             0\n",
       "language                   0\n",
       "count                      0\n",
       "first_affiliate_tracked    0\n",
       "dtype: int64"
      ]
     },
     "execution_count": 138,
     "metadata": {},
     "output_type": "execute_result"
    }
   ],
   "source": [
    "## Checking for null values in dataframe df\n",
    "df.isnull().sum()"
   ]
  },
  {
   "cell_type": "code",
   "execution_count": 139,
   "metadata": {},
   "outputs": [],
   "source": [
    "## Converting feature 'timestamp_first_active' to 'datetime' datatype\n",
    "df['timestamp_first_active']=df['timestamp_first_active'].astype(str)"
   ]
  },
  {
   "cell_type": "code",
   "execution_count": 140,
   "metadata": {},
   "outputs": [],
   "source": [
    "from datetime import datetime\n",
    "df['timestamp_first_active']=df['timestamp_first_active'].apply(lambda x:datetime.strptime(x,'%Y%m%d%H%M%S'))"
   ]
  },
  {
   "cell_type": "code",
   "execution_count": 141,
   "metadata": {},
   "outputs": [],
   "source": [
    "## Converting timestamp_first_active into year,month and date:\n",
    "df['timestamp_hour']=df['timestamp_first_active'].map(lambda x: x.hour)\n",
    "df['timestamp_minute']=df['timestamp_first_active'].map(lambda x: x.minute)\n",
    "df['timestamp_second']=df['timestamp_first_active'].map(lambda x: x.hour)\n",
    "df['timestamp_year']=df['timestamp_first_active'].map(lambda x: x.year)\n",
    "df['timestamp_month']=df['timestamp_first_active'].map(lambda x: x.month)\n",
    "df['timestamp_day']=df['timestamp_first_active'].map(lambda x: x.day)\n",
    "df['timestamp_weekday']=df['timestamp_first_active'].map(lambda x: x.weekday())"
   ]
  },
  {
   "cell_type": "code",
   "execution_count": 142,
   "metadata": {},
   "outputs": [],
   "source": [
    "## Dropping column 'timestamp_first_active'\n",
    "df=df.drop(['timestamp_first_active'],axis=1)"
   ]
  },
  {
   "cell_type": "code",
   "execution_count": 143,
   "metadata": {},
   "outputs": [],
   "source": [
    "## Converting cols 'date_account_created' and 'date_first_booking' to 'datetime' datatype\n",
    "df['date_account_created']=df['date_account_created'].astype(str)\n",
    "df['date_first_booking']=df['date_first_booking'].astype(str)"
   ]
  },
  {
   "cell_type": "code",
   "execution_count": 144,
   "metadata": {},
   "outputs": [],
   "source": [
    "df['date_account_created']=df['date_account_created'].apply(lambda x:datetime.strptime(x,'%Y-%m-%d'))\n",
    "df['date_first_booking']=df['date_first_booking'].apply(lambda x:datetime.strptime(x,'%Y-%m-%d'))"
   ]
  },
  {
   "cell_type": "code",
   "execution_count": 145,
   "metadata": {},
   "outputs": [],
   "source": [
    "## time_to_first_booking feature\n",
    "df['time_to_first_booking']=df['date_account_created'] - df['date_first_booking']"
   ]
  },
  {
   "cell_type": "code",
   "execution_count": 146,
   "metadata": {},
   "outputs": [
    {
     "data": {
      "text/plain": [
       "<matplotlib.axes._subplots.AxesSubplot at 0xd811f7eeb8>"
      ]
     },
     "execution_count": 146,
     "metadata": {},
     "output_type": "execute_result"
    }
   ],
   "source": [
    "## Univariate analysis of DataFrame df\n",
    "df['country_destination'].value_counts(normalize=True).plot.bar(title='Destination_Country')"
   ]
  },
  {
   "cell_type": "code",
   "execution_count": 147,
   "metadata": {},
   "outputs": [
    {
     "data": {
      "text/plain": [
       "<matplotlib.axes._subplots.AxesSubplot at 0xd817a9f438>"
      ]
     },
     "execution_count": 147,
     "metadata": {},
     "output_type": "execute_result"
    },
    {
     "data": {
      "image/png": "[encoded data removed]",
      "text/plain": [
       "<Figure size 720x720 with 1 Axes>"
      ]
     },
     "metadata": {
      "needs_background": "light"
     },
     "output_type": "display_data"
    }
   ],
   "source": [
    "## Bi-variate analysis \n",
    "# 1. Action Feature\n",
    "Action=pd.crosstab(df['action'],df['country_destination'])\n",
    "Action.plot(kind='bar',figsize=(10,10),stacked=True)"
   ]
  },
  {
   "cell_type": "code",
   "execution_count": 148,
   "metadata": {},
   "outputs": [],
   "source": [
    "## Using a cut-off value to reduce the categories in feature 'action'\n",
    "cut_off=1378\n",
    "other_actions=[]\n",
    "for action,count in df.action.value_counts().iteritems():\n",
    "    if count < cut_off:\n",
    "        other_actions.append(action)\n",
    "        \n",
    "df.loc[df.action.isin(other_actions),\"action\"]=\"other_action\""
   ]
  },
  {
   "cell_type": "code",
   "execution_count": 149,
   "metadata": {},
   "outputs": [
    {
     "data": {
      "text/plain": [
       "missing                                            275547\n",
       "show                                               217156\n",
       "index                                              139033\n",
       "create                                             118191\n",
       "header_userpic                                      97838\n",
       "update                                              72736\n",
       "personalize                                         69394\n",
       "active                                              59337\n",
       "other_action                                        57116\n",
       "ajax_refresh_subtotal                               56235\n",
       "dashboard                                           54511\n",
       "confirm_email                                       52533\n",
       "search_results                                      46414\n",
       "similar_listings                                    41485\n",
       "reviews                                             40731\n",
       "search                                              36327\n",
       "campaigns                                           35464\n",
       "notifications                                       34853\n",
       "authenticate                                        32785\n",
       "lookup                                              31742\n",
       "social_connections                                  28009\n",
       "ask_question                                        24918\n",
       "show_personalize                                    24223\n",
       "edit                                                20365\n",
       "verify                                              20226\n",
       "similar_listings_v2                                 19549\n",
       "requested                                           19404\n",
       "unavailabilities                                    18438\n",
       "impressions                                         17288\n",
       "ajax_check_dates                                    17090\n",
       "                                                    ...  \n",
       "recommendations                                      3940\n",
       "read_policy_click                                    3475\n",
       "login                                                3401\n",
       "facebook_auto_login                                  3339\n",
       "cancellation_policy_click                            3104\n",
       "delete                                               3069\n",
       "ajax_referral_banner_experiment_type                 3018\n",
       "reviews_new                                          2864\n",
       "hosting_social_proof                                 2682\n",
       "ajax_referral_banner_type                            2646\n",
       "faq_category                                         2638\n",
       "apply_reservation                                    2440\n",
       "referrer_status                                      2376\n",
       "available                                            2302\n",
       "this_hosting_reviews                                 2057\n",
       "phone_verification_number_sucessfully_submitted      1900\n",
       "endpoint_error                                       1858\n",
       "phone_verification_number_submitted_for_sms          1840\n",
       "phone_verification_success                           1808\n",
       "coupon_code_click                                    1744\n",
       "payout_preferences                                   1718\n",
       "pay                                                  1673\n",
       "login_modal                                          1591\n",
       "popular                                              1581\n",
       "create_multiple                                      1497\n",
       "qt_with                                              1496\n",
       "domains                                              1465\n",
       "phone_verification_modal                             1451\n",
       "view                                                 1436\n",
       "decision_tree                                        1390\n",
       "Name: action, Length: 111, dtype: int64"
      ]
     },
     "execution_count": 149,
     "metadata": {},
     "output_type": "execute_result"
    }
   ],
   "source": [
    "df.action.value_counts()"
   ]
  },
  {
   "cell_type": "code",
   "execution_count": 150,
   "metadata": {},
   "outputs": [
    {
     "data": {
      "text/plain": [
       "<matplotlib.axes._subplots.AxesSubplot at 0xd81874f860>"
      ]
     },
     "execution_count": 150,
     "metadata": {},
     "output_type": "execute_result"
    },
    {
     "data": {
      "image/png": "[encoded data removed]",
      "text/plain": [
       "<Figure size 720x720 with 1 Axes>"
      ]
     },
     "metadata": {
      "needs_background": "light"
     },
     "output_type": "display_data"
    }
   ],
   "source": [
    "# 2. Action_Type Feature\n",
    "action_type=pd.crosstab(df['action_type'],df['country_destination'])\n",
    "action_type.plot(kind='bar',figsize=(10,10),stacked=True)"
   ]
  },
  {
   "cell_type": "code",
   "execution_count": 151,
   "metadata": {},
   "outputs": [],
   "source": [
    "## Using a cut-off value to reduce the categories in feature 'action_type'\n",
    "other_action_type=[]\n",
    "for action_type,count in df.action_type.value_counts().iteritems():\n",
    "    if count < cut_off:\n",
    "        other_action_type.append(action_type)\n",
    "        \n",
    "df.loc[df.action_type.isin(other_action_type),\"action_type\"]=\"other\""
   ]
  },
  {
   "cell_type": "code",
   "execution_count": 152,
   "metadata": {},
   "outputs": [
    {
     "data": {
      "text/plain": [
       "view                530612\n",
       "-unknown-           448712\n",
       "data                352046\n",
       "missing             306496\n",
       "submit              274757\n",
       "click               272837\n",
       "lookup               31742\n",
       "booking_request      17869\n",
       "partner_callback     14474\n",
       "message_post          3382\n",
       "other                  465\n",
       "Name: action_type, dtype: int64"
      ]
     },
     "execution_count": 152,
     "metadata": {},
     "output_type": "execute_result"
    }
   ],
   "source": [
    "df.action_type.value_counts()"
   ]
  },
  {
   "cell_type": "code",
   "execution_count": 153,
   "metadata": {},
   "outputs": [
    {
     "data": {
      "text/plain": [
       "<matplotlib.axes._subplots.AxesSubplot at 0xd81b5fd5c0>"
      ]
     },
     "execution_count": 153,
     "metadata": {},
     "output_type": "execute_result"
    },
    {
     "data": {
      "image/png": "[encoded data removed]",
      "text/plain": [
       "<Figure size 720x720 with 1 Axes>"
      ]
     },
     "metadata": {
      "needs_background": "light"
     },
     "output_type": "display_data"
    }
   ],
   "source": [
    "# 3. Action_Detail Feature\n",
    "action_detail=pd.crosstab(df['action_detail'],df['country_destination'])\n",
    "action_detail.plot(kind='bar',figsize=(10,10),stacked=True)"
   ]
  },
  {
   "cell_type": "code",
   "execution_count": 154,
   "metadata": {},
   "outputs": [],
   "source": [
    "## Using a cut-off value to reduce the categories in feature 'action_detail'\n",
    "other_action_detail=[]\n",
    "for action_detail,count in df.action_detail.value_counts().iteritems():\n",
    "    if count < cut_off:\n",
    "        other_action_detail.append(action_detail)\n",
    "        \n",
    "df.loc[df.action_detail.isin(other_action_detail),\"action_detail\"]=\"other\""
   ]
  },
  {
   "cell_type": "code",
   "execution_count": 155,
   "metadata": {},
   "outputs": [
    {
     "data": {
      "text/plain": [
       "-unknown-                      449512\n",
       "missing                        306496\n",
       "view_search_results            134911\n",
       "p3                             107168\n",
       "header_userpic                  97838\n",
       "wishlist_content_update         69394\n",
       "user_profile                    59304\n",
       "change_trip_characteristics     56235\n",
       "dashboard                       54511\n",
       "create_user                     53909\n",
       "confirm_email_link              52239\n",
       "contact_host                    42907\n",
       "similar_listings                41485\n",
       "update_listing                  31893\n",
       "lookup                          31742\n",
       "login                           29173\n",
       "user_wishlists                  28906\n",
       "listing_reviews                 28268\n",
       "message_thread                  27931\n",
       "user_social_connections         27884\n",
       "notifications                   27085\n",
       "user_profile_content_update     24223\n",
       "other                           24156\n",
       "create_phone_numbers            21410\n",
       "signup                          21002\n",
       "edit_profile                    20131\n",
       "p1                              20102\n",
       "update_user                     19760\n",
       "unavailable_dates               18342\n",
       "p4                              17370\n",
       "                                ...  \n",
       "oauth_login                      7060\n",
       "login_page                       7012\n",
       "manage_listing                   6561\n",
       "at_checkpoint                    5084\n",
       "message_inbox                    4901\n",
       "send_message                     4657\n",
       "request_new_confirm_email        4622\n",
       "profile_references               4283\n",
       "update_listing_description       4062\n",
       "view_listing                     4020\n",
       "view_reservations                3882\n",
       "listing_recommendations          3639\n",
       "view_locations                   3592\n",
       "read_policy_click                3475\n",
       "message_post                     3382\n",
       "listing_descriptions             3224\n",
       "cancellation_policy_click        3104\n",
       "book_it                          3085\n",
       "wishlist                         2855\n",
       "apply_coupon                     2440\n",
       "trip_availability                2262\n",
       "listing_reviews_page             2057\n",
       "phone_verification_success       1808\n",
       "coupon_code_click                1744\n",
       "account_payout_preferences       1718\n",
       "user_tax_forms                   1700\n",
       "login_modal                      1591\n",
       "popular_wishlists                1581\n",
       "instant_book                     1568\n",
       "lookup_message_thread            1496\n",
       "Name: action_detail, Length: 80, dtype: int64"
      ]
     },
     "execution_count": 155,
     "metadata": {},
     "output_type": "execute_result"
    }
   ],
   "source": [
    "df.action_detail.value_counts()"
   ]
  },
  {
   "cell_type": "code",
   "execution_count": 156,
   "metadata": {},
   "outputs": [
    {
     "data": {
      "text/plain": [
       "<matplotlib.axes._subplots.AxesSubplot at 0xd81d608898>"
      ]
     },
     "execution_count": 156,
     "metadata": {},
     "output_type": "execute_result"
    },
    {
     "data": {
      "image/png": "[encoded data removed]",
      "text/plain": [
       "<Figure size 720x720 with 1 Axes>"
      ]
     },
     "metadata": {
      "needs_background": "light"
     },
     "output_type": "display_data"
    }
   ],
   "source": [
    "# 4. affiliate_channel Feature\n",
    "affiliate_channel=pd.crosstab(df['affiliate_channel'],df['country_destination'])\n",
    "affiliate_channel.plot(kind='bar',figsize=(10,10),stacked=True)"
   ]
  },
  {
   "cell_type": "code",
   "execution_count": 157,
   "metadata": {},
   "outputs": [
    {
     "data": {
      "text/plain": [
       "<matplotlib.axes._subplots.AxesSubplot at 0xd81faa1748>"
      ]
     },
     "execution_count": 157,
     "metadata": {},
     "output_type": "execute_result"
    },
    {
     "data": {
      "image/png": "[encoded data removed]",
      "text/plain": [
       "<Figure size 720x720 with 1 Axes>"
      ]
     },
     "metadata": {
      "needs_background": "light"
     },
     "output_type": "display_data"
    }
   ],
   "source": [
    "# 5. affiliate_provider Feature\n",
    "affiliate_provider=pd.crosstab(df['affiliate_provider'],df['country_destination'])\n",
    "affiliate_provider.plot(kind='bar',figsize=(10,10),stacked=True)"
   ]
  },
  {
   "cell_type": "code",
   "execution_count": 158,
   "metadata": {},
   "outputs": [],
   "source": [
    "## Using cut-off value to reduce the categories in feature 'affiliate_provider'\n",
    "other_affiliate_providers=[]\n",
    "for affiliate_provider,count in df.affiliate_provider.value_counts().iteritems():\n",
    "    if count < cut_off:\n",
    "        other_affiliate_providers.append(affiliate_provider)\n",
    "\n",
    "df.loc[df.affiliate_provider.isin(other_affiliate_providers),\"affiliate_provider\"]=\"other\""
   ]
  },
  {
   "cell_type": "code",
   "execution_count": 159,
   "metadata": {},
   "outputs": [
    {
     "data": {
      "text/plain": [
       "direct                 1479090\n",
       "google                  625825\n",
       "other                    53748\n",
       "facebook                 41275\n",
       "bing                     36712\n",
       "yahoo                     4487\n",
       "padmapper                 4340\n",
       "craigslist                3559\n",
       "email-marketing           2660\n",
       "facebook-open-graph       1696\n",
       "Name: affiliate_provider, dtype: int64"
      ]
     },
     "execution_count": 159,
     "metadata": {},
     "output_type": "execute_result"
    }
   ],
   "source": [
    "df.affiliate_provider.value_counts()"
   ]
  },
  {
   "cell_type": "code",
   "execution_count": 160,
   "metadata": {},
   "outputs": [
    {
     "data": {
      "text/plain": [
       "<matplotlib.axes._subplots.AxesSubplot at 0xd81fdbdd68>"
      ]
     },
     "execution_count": 160,
     "metadata": {},
     "output_type": "execute_result"
    },
    {
     "data": {
      "image/png": "[encoded data removed]",
      "text/plain": [
       "<Figure size 720x720 with 1 Axes>"
      ]
     },
     "metadata": {
      "needs_background": "light"
     },
     "output_type": "display_data"
    }
   ],
   "source": [
    "# 6.first_browser Feature\n",
    "first_browser=pd.crosstab(df['first_browser'],df['country_destination'])\n",
    "first_browser.plot(kind='bar',figsize=(10,10),stacked=True)"
   ]
  },
  {
   "cell_type": "code",
   "execution_count": 161,
   "metadata": {},
   "outputs": [],
   "source": [
    "## Create a new feature for mobile browsers\n",
    "mobile_browsers=['Mobile Safari','Chrome Mobile','Android Browser','Mobile Firefox','IE Mobile']\n",
    "df.loc[df.first_browser.isin(mobile_browsers),\"first_browser\"]=\"Mobile\""
   ]
  },
  {
   "cell_type": "code",
   "execution_count": 162,
   "metadata": {},
   "outputs": [],
   "source": [
    "## Categorizing other_browsers using cut_off\n",
    "other_browsers=[]\n",
    "for browser,count in df.first_browser.value_counts().iteritems():\n",
    "    if count < cut_off:\n",
    "        other_browsers.append(browser)\n",
    "        \n",
    "df.loc[df.first_browser.isin(other_browsers),\"first_browser\"]=\"Other\""
   ]
  },
  {
   "cell_type": "code",
   "execution_count": 163,
   "metadata": {},
   "outputs": [
    {
     "data": {
      "text/plain": [
       "Chrome       683583\n",
       "-unknown-    408290\n",
       "Safari       404253\n",
       "Mobile       327534\n",
       "Firefox      258916\n",
       "IE           162653\n",
       "Other          4644\n",
       "Opera          1772\n",
       "Silk           1747\n",
       "Name: first_browser, dtype: int64"
      ]
     },
     "execution_count": 163,
     "metadata": {},
     "output_type": "execute_result"
    }
   ],
   "source": [
    "df.first_browser.value_counts()"
   ]
  },
  {
   "cell_type": "code",
   "execution_count": 164,
   "metadata": {},
   "outputs": [
    {
     "data": {
      "text/plain": [
       "<matplotlib.axes._subplots.AxesSubplot at 0xd8206f1a90>"
      ]
     },
     "execution_count": 164,
     "metadata": {},
     "output_type": "execute_result"
    },
    {
     "data": {
      "image/png": "[encoded data removed]",
      "text/plain": [
       "<Figure size 720x720 with 1 Axes>"
      ]
     },
     "metadata": {
      "needs_background": "light"
     },
     "output_type": "display_data"
    }
   ],
   "source": [
    "# 7. gender Feature\n",
    "gender=pd.crosstab(df['gender'],df['country_destination'])\n",
    "gender.plot(kind='bar',figsize=(10,10),stacked=True)"
   ]
  },
  {
   "cell_type": "code",
   "execution_count": 165,
   "metadata": {},
   "outputs": [
    {
     "data": {
      "text/plain": [
       "<matplotlib.axes._subplots.AxesSubplot at 0xd821336240>"
      ]
     },
     "execution_count": 165,
     "metadata": {},
     "output_type": "execute_result"
    },
    {
     "data": {
      "image/png": "[encoded data removed]",
      "text/plain": [
       "<Figure size 720x720 with 1 Axes>"
      ]
     },
     "metadata": {
      "needs_background": "light"
     },
     "output_type": "display_data"
    }
   ],
   "source": [
    "## 8. signup_app Feature\n",
    "signup_app=pd.crosstab(df['signup_app'],df['country_destination'])\n",
    "signup_app.plot(kind='bar',figsize=(10,10),stacked=True)"
   ]
  },
  {
   "cell_type": "code",
   "execution_count": 166,
   "metadata": {},
   "outputs": [
    {
     "data": {
      "text/plain": [
       "<matplotlib.axes._subplots.AxesSubplot at 0xd820f16400>"
      ]
     },
     "execution_count": 166,
     "metadata": {},
     "output_type": "execute_result"
    },
    {
     "data": {
      "image/png": "[encoded data removed]",
      "text/plain": [
       "<Figure size 720x720 with 1 Axes>"
      ]
     },
     "metadata": {
      "needs_background": "light"
     },
     "output_type": "display_data"
    }
   ],
   "source": [
    "## 9. signup_method Feature\n",
    "signup_method=pd.crosstab(df['signup_method'],df['country_destination'])\n",
    "signup_method.plot(kind='bar',figsize=(10,10),stacked=True)"
   ]
  },
  {
   "cell_type": "code",
   "execution_count": 167,
   "metadata": {},
   "outputs": [
    {
     "data": {
      "text/plain": [
       "<matplotlib.axes._subplots.AxesSubplot at 0xd820ff4a20>"
      ]
     },
     "execution_count": 167,
     "metadata": {},
     "output_type": "execute_result"
    },
    {
     "data": {
      "image/png": "[encoded data removed]",
      "text/plain": [
       "<Figure size 720x720 with 1 Axes>"
      ]
     },
     "metadata": {
      "needs_background": "light"
     },
     "output_type": "display_data"
    }
   ],
   "source": [
    "## 10.language Feature\n",
    "language=pd.crosstab(df['language'],df['country_destination'])\n",
    "language.plot(kind='bar',figsize=(10,10),stacked=True)"
   ]
  },
  {
   "cell_type": "code",
   "execution_count": 168,
   "metadata": {},
   "outputs": [],
   "source": [
    "## Categorizing language into English , Non-English\n",
    "other_lang=[]\n",
    "for language,count in df.language.value_counts().iteritems():\n",
    "    if count < 275:\n",
    "        other_lang.append(language)\n",
    "\n",
    "df.loc[df.language.isin(other_lang),\"language\"]=\"other\""
   ]
  },
  {
   "cell_type": "code",
   "execution_count": 169,
   "metadata": {},
   "outputs": [],
   "source": [
    "df['language']=df.language.map(lambda x: 0 if x == 'en' else 1)"
   ]
  },
  {
   "cell_type": "code",
   "execution_count": 170,
   "metadata": {},
   "outputs": [
    {
     "data": {
      "text/plain": [
       "0    2167989\n",
       "1      85403\n",
       "Name: language, dtype: int64"
      ]
     },
     "execution_count": 170,
     "metadata": {},
     "output_type": "execute_result"
    }
   ],
   "source": [
    "df['language'].value_counts()"
   ]
  },
  {
   "cell_type": "code",
   "execution_count": 171,
   "metadata": {},
   "outputs": [],
   "source": [
    "## signup_flow field page from which the user choose to signup 0----> Home Page\n",
    "df['signup_flow_simple']=df['signup_flow'].map(lambda x: 0 if x == 0 else 1)"
   ]
  },
  {
   "cell_type": "code",
   "execution_count": 172,
   "metadata": {},
   "outputs": [],
   "source": [
    "## Analysis of feature 'first_booking'\n",
    "df['year_first_booking']=df.date_first_booking.dt.year\n",
    "df['month_first_booking']=df.date_first_booking.dt.month\n",
    "df['weekday_first_booking']=df.date_first_booking.dt.weekday"
   ]
  },
  {
   "cell_type": "code",
   "execution_count": 173,
   "metadata": {},
   "outputs": [
    {
     "data": {
      "text/plain": [
       "2014    2172581\n",
       "2013      31259\n",
       "2015      26094\n",
       "2012      16241\n",
       "2011       5738\n",
       "2010       1479\n",
       "Name: year_first_booking, dtype: int64"
      ]
     },
     "execution_count": 173,
     "metadata": {},
     "output_type": "execute_result"
    }
   ],
   "source": [
    "## Value count in first_booking(yearly,monthly and weekday)\n",
    "df['year_first_booking'].value_counts()"
   ]
  },
  {
   "cell_type": "code",
   "execution_count": 174,
   "metadata": {},
   "outputs": [
    {
     "data": {
      "text/plain": [
       "6     1788067\n",
       "5      100806\n",
       "4       83783\n",
       "3       71195\n",
       "2       58727\n",
       "1       55425\n",
       "7       27530\n",
       "8       17567\n",
       "9       14569\n",
       "10      13541\n",
       "11      11512\n",
       "12      10670\n",
       "Name: month_first_booking, dtype: int64"
      ]
     },
     "execution_count": 174,
     "metadata": {},
     "output_type": "execute_result"
    }
   ],
   "source": [
    "df['month_first_booking'].value_counts()"
   ]
  },
  {
   "cell_type": "code",
   "execution_count": 175,
   "metadata": {},
   "outputs": [
    {
     "data": {
      "text/plain": [
       "2    1771860\n",
       "3      90763\n",
       "1      89547\n",
       "4      84600\n",
       "0      83308\n",
       "5      68739\n",
       "6      64575\n",
       "Name: weekday_first_booking, dtype: int64"
      ]
     },
     "execution_count": 175,
     "metadata": {},
     "output_type": "execute_result"
    }
   ],
   "source": [
    "df['weekday_first_booking'].value_counts()"
   ]
  },
  {
   "cell_type": "code",
   "execution_count": 176,
   "metadata": {},
   "outputs": [],
   "source": [
    "## Analysis of feature 'Account_created'\n",
    "df['year_acct_created']=df.date_account_created.dt.year\n",
    "df['month_acct_created']=df.date_account_created.dt.month\n",
    "df['weekday_acct_created']=df.date_account_created.dt.weekday"
   ]
  },
  {
   "cell_type": "code",
   "execution_count": 177,
   "metadata": {},
   "outputs": [
    {
     "data": {
      "text/plain": [
       "2014    2116407\n",
       "2013      82960\n",
       "2012      39462\n",
       "2011      11775\n",
       "2010       2788\n",
       "Name: year_acct_created, dtype: int64"
      ]
     },
     "execution_count": 177,
     "metadata": {},
     "output_type": "execute_result"
    }
   ],
   "source": [
    "## Value count in 'date_account_created'(yearly,monthly and weekday)\n",
    "df['year_acct_created'].value_counts()"
   ]
  },
  {
   "cell_type": "code",
   "execution_count": 178,
   "metadata": {},
   "outputs": [
    {
     "data": {
      "text/plain": [
       "8     361916\n",
       "7     356213\n",
       "9     323985\n",
       "6     261455\n",
       "5     246530\n",
       "4     208522\n",
       "3     164197\n",
       "1     153039\n",
       "2     137525\n",
       "10     13476\n",
       "12     13405\n",
       "11     13129\n",
       "Name: month_acct_created, dtype: int64"
      ]
     },
     "execution_count": 178,
     "metadata": {},
     "output_type": "execute_result"
    }
   ],
   "source": [
    "df['month_acct_created'].value_counts()"
   ]
  },
  {
   "cell_type": "code",
   "execution_count": 179,
   "metadata": {},
   "outputs": [
    {
     "data": {
      "text/plain": [
       "2    361556\n",
       "1    360151\n",
       "3    343139\n",
       "0    336890\n",
       "4    316862\n",
       "6    268646\n",
       "5    266148\n",
       "Name: weekday_acct_created, dtype: int64"
      ]
     },
     "execution_count": 179,
     "metadata": {},
     "output_type": "execute_result"
    }
   ],
   "source": [
    "df['weekday_acct_created'].value_counts()"
   ]
  },
  {
   "cell_type": "code",
   "execution_count": 180,
   "metadata": {},
   "outputs": [],
   "source": [
    "## Drop features which do not add more information in model building\n",
    "df=df.drop(['id','date_first_booking','date_account_created','timestamp_hour','timestamp_minute','timestamp_second','timestamp_year','timestamp_month','timestamp_day','timestamp_weekday','year_acct_created','month_acct_created','weekday_acct_created','time_to_first_booking','age','signup_flow','count'],axis=1)"
   ]
  },
  {
   "cell_type": "code",
   "execution_count": 181,
   "metadata": {},
   "outputs": [],
   "source": [
    "## Seperate target feature 'country_destination' from other input features\n",
    "label=pd.DataFrame(df['country_destination'])"
   ]
  },
  {
   "cell_type": "code",
   "execution_count": 182,
   "metadata": {},
   "outputs": [],
   "source": [
    "## Drop target feature 'country_destination' from input variables\n",
    "df=df.drop(['country_destination'],axis=1)"
   ]
  },
  {
   "cell_type": "code",
   "execution_count": 183,
   "metadata": {},
   "outputs": [
    {
     "data": {
      "text/plain": [
       "action                      object\n",
       "action_detail               object\n",
       "action_type                 object\n",
       "affiliate_channel           object\n",
       "affiliate_provider          object\n",
       "android_device             float64\n",
       "apple_device               float64\n",
       "duration                   float64\n",
       "first_browser               object\n",
       "gender                      object\n",
       "other_device               float64\n",
       "signup_app                  object\n",
       "signup_method               object\n",
       "windows_device             float64\n",
       "language                     int64\n",
       "first_affiliate_tracked     object\n",
       "signup_flow_simple           int64\n",
       "year_first_booking           int64\n",
       "month_first_booking          int64\n",
       "weekday_first_booking        int64\n",
       "dtype: object"
      ]
     },
     "execution_count": 183,
     "metadata": {},
     "output_type": "execute_result"
    }
   ],
   "source": [
    "## Displaying datatypes of df\n",
    "df.dtypes"
   ]
  },
  {
   "cell_type": "code",
   "execution_count": 184,
   "metadata": {},
   "outputs": [],
   "source": [
    "## Splitting data in terms of categorical and continous features\n",
    "cat_features=[]\n",
    "cont_features=[]\n",
    "for feature in df.columns:\n",
    "    if df[feature].dtype == float or df[feature].dtype == 'int64':\n",
    "        cont_features.append(feature)\n",
    "    elif df[feature].dtype == object:\n",
    "        cat_features.append(feature)"
   ]
  },
  {
   "cell_type": "code",
   "execution_count": 185,
   "metadata": {},
   "outputs": [],
   "source": [
    "## Date feature needs to be in categorical list\n",
    "date_lst=['year_first_booking','month_first_booking','weekday_first_booking']\n",
    "for feature in date_lst:\n",
    "    if feature in cont_features:\n",
    "        cont_features.remove(feature)\n",
    "        cat_features.append(feature)"
   ]
  },
  {
   "cell_type": "code",
   "execution_count": 186,
   "metadata": {},
   "outputs": [],
   "source": [
    "## Create dummies for categorical features\n",
    "for feature in cat_features:\n",
    "    dummies=pd.get_dummies(df[feature],prefix=feature,drop_first=False)\n",
    "    ## Drop non-important features\n",
    "    df=df.drop(feature,axis=1)\n",
    "    df=pd.concat([df,dummies],axis=1)"
   ]
  },
  {
   "cell_type": "code",
   "execution_count": null,
   "metadata": {},
   "outputs": [
    {
     "name": "stderr",
     "output_type": "stream",
     "text": [
      "C:\\Users\\Dad\\AppData\\Local\\Continuum\\anaconda3\\lib\\site-packages\\sklearn\\utils\\validation.py:578: DataConversionWarning: A column-vector y was passed when a 1d array was expected. Please change the shape of y to (n_samples, ), for example using ravel().\n",
      "  y = column_or_1d(y, warn=True)\n",
      "C:\\Users\\Dad\\AppData\\Local\\Continuum\\anaconda3\\lib\\site-packages\\sklearn\\discriminant_analysis.py:442: UserWarning: The priors do not sum to 1. Renormalizing\n",
      "  UserWarning)\n"
     ]
    }
   ],
   "source": [
    "#######################################################################\n",
    "'''           Model Building Phase\n",
    "'''\n",
    "#######################################################################\n",
    "'''Using LDA ( Linear Discriminant Analysis) for reducing features. \n",
    "Data fit is restricted to a limit , since it throws an out of memory error for more data.'''\n",
    "from sklearn.discriminant_analysis import LinearDiscriminantAnalysis\n",
    "lda=LinearDiscriminantAnalysis(n_components=3)\n",
    "df_lda=lda.fit_transform(df[:200000],label[:200000])"
   ]
  },
  {
   "cell_type": "code",
   "execution_count": 377,
   "metadata": {},
   "outputs": [],
   "source": [
    "## Applying K-Fold cross validation technique on data\n",
    "from sklearn.model_selection import KFold\n",
    "kf=KFold(n_splits=20,shuffle=True,random_state=42)\n",
    "for train_index,val_index in kf.split(df_lda):\n",
    "    x_train,x_val=df_lda[train_index],df_lda[val_index]\n",
    "    y_train,y_val=label.iloc[train_index],label.iloc[val_index]"
   ]
  },
  {
   "cell_type": "code",
   "execution_count": 378,
   "metadata": {},
   "outputs": [
    {
     "name": "stderr",
     "output_type": "stream",
     "text": [
      "C:\\Users\\Dad\\AppData\\Local\\Continuum\\anaconda3\\lib\\site-packages\\sklearn\\utils\\validation.py:578: DataConversionWarning: A column-vector y was passed when a 1d array was expected. Please change the shape of y to (n_samples, ), for example using ravel().\n",
      "  y = column_or_1d(y, warn=True)\n"
     ]
    },
    {
     "name": "stdout",
     "output_type": "stream",
     "text": [
      "Accuracy score 0.8581\n"
     ]
    }
   ],
   "source": [
    "## Model Building using Logistic Regression\n",
    "from sklearn.linear_model import LogisticRegression\n",
    "from sklearn import metrics\n",
    "lr=LogisticRegression(penalty='l2',C=0.01,multi_class='ovr',max_iter=300,solver='lbfgs',n_jobs=-1,random_state=42)\n",
    "lr.fit(x_train,y_train)\n",
    "y_lr_pred=lr.predict(x_val)\n",
    "print(\"Accuracy score\",metrics.accuracy_score(y_val,y_lr_pred))"
   ]
  },
  {
   "cell_type": "code",
   "execution_count": 379,
   "metadata": {},
   "outputs": [
    {
     "data": {
      "text/plain": [
       "0.8652"
      ]
     },
     "execution_count": 379,
     "metadata": {},
     "output_type": "execute_result"
    }
   ],
   "source": [
    "# Model Building using Decision Trees\n",
    "from sklearn.tree import DecisionTreeClassifier\n",
    "from sklearn import metrics\n",
    "dtc=DecisionTreeClassifier(max_depth=10,min_samples_split=90,min_samples_leaf=20,random_state=42)\n",
    "dtc.fit(x_train,y_train)\n",
    "y_dtc_predict=dtc.predict(x_val)\n",
    "acc_dtc_score=metrics.accuracy_score(y_val,y_dtc_predict)\n",
    "acc_dtc_score"
   ]
  },
  {
   "cell_type": "code",
   "execution_count": 380,
   "metadata": {},
   "outputs": [
    {
     "name": "stderr",
     "output_type": "stream",
     "text": [
      "C:\\Users\\Dad\\AppData\\Local\\Continuum\\anaconda3\\lib\\site-packages\\ipykernel_launcher.py:5: DataConversionWarning: A column-vector y was passed when a 1d array was expected. Please change the shape of y to (n_samples,), for example using ravel().\n",
      "  \"\"\"\n"
     ]
    },
    {
     "name": "stdout",
     "output_type": "stream",
     "text": [
      "building tree 1 of 200building tree 2 of 200building tree 3 of 200\n",
      "\n",
      "\n",
      "building tree 4 of 200\n",
      "building tree 5 of 200\n",
      "building tree 6 of 200\n",
      "building tree 7 of 200\n",
      "building tree 8 of 200\n",
      "building tree 9 of 200\n",
      "building tree 10 of 200\n",
      "building tree 11 of 200\n",
      "building tree 12 of 200\n"
     ]
    },
    {
     "name": "stderr",
     "output_type": "stream",
     "text": [
      "[Parallel(n_jobs=-1)]: Done   5 tasks      | elapsed:    1.2s\n"
     ]
    },
    {
     "name": "stdout",
     "output_type": "stream",
     "text": [
      "building tree 13 of 200\n",
      "building tree 14 of 200\n",
      "building tree 15 of 200\n",
      "building tree 16 of 200\n"
     ]
    },
    {
     "name": "stderr",
     "output_type": "stream",
     "text": [
      "[Parallel(n_jobs=-1)]: Done  10 tasks      | elapsed:    1.7s\n"
     ]
    },
    {
     "name": "stdout",
     "output_type": "stream",
     "text": [
      "building tree 17 of 200\n",
      "building tree 18 of 200\n",
      "building tree 19 of 200\n",
      "building tree 20 of 200\n"
     ]
    },
    {
     "name": "stderr",
     "output_type": "stream",
     "text": [
      "[Parallel(n_jobs=-1)]: Done  17 tasks      | elapsed:    2.8s\n"
     ]
    },
    {
     "name": "stdout",
     "output_type": "stream",
     "text": [
      "building tree 21 of 200\n",
      "building tree 22 of 200\n",
      "building tree 23 of 200\n",
      "building tree 24 of 200\n",
      "building tree 25 of 200\n",
      "building tree 26 of 200\n",
      "building tree 27 of 200\n"
     ]
    },
    {
     "name": "stderr",
     "output_type": "stream",
     "text": [
      "[Parallel(n_jobs=-1)]: Done  24 tasks      | elapsed:    3.7s\n"
     ]
    },
    {
     "name": "stdout",
     "output_type": "stream",
     "text": [
      "building tree 28 of 200\n",
      "building tree 29 of 200\n",
      "building tree 30 of 200\n",
      "building tree 31 of 200\n",
      "building tree 32 of 200\n",
      "building tree 33 of 200\n",
      "building tree 34 of 200\n",
      "building tree 35 of 200\n",
      "building tree 36 of 200\n"
     ]
    },
    {
     "name": "stderr",
     "output_type": "stream",
     "text": [
      "[Parallel(n_jobs=-1)]: Done  33 tasks      | elapsed:    5.2s\n"
     ]
    },
    {
     "name": "stdout",
     "output_type": "stream",
     "text": [
      "building tree 37 of 200\n",
      "building tree 38 of 200\n",
      "building tree 39 of 200\n",
      "building tree 40 of 200\n",
      "building tree 41 of 200building tree 42 of 200\n",
      "\n",
      "building tree 43 of 200\n",
      "building tree 44 of 200\n",
      "building tree 45 of 200\n",
      "building tree 46 of 200\n",
      "building tree 47 of 200\n"
     ]
    },
    {
     "name": "stderr",
     "output_type": "stream",
     "text": [
      "[Parallel(n_jobs=-1)]: Done  42 tasks      | elapsed:    6.4s\n"
     ]
    },
    {
     "name": "stdout",
     "output_type": "stream",
     "text": [
      "building tree 48 of 200\n",
      "building tree 49 of 200\n",
      "building tree 50 of 200\n",
      "building tree 51 of 200\n",
      "building tree 52 of 200\n",
      "building tree 53 of 200\n",
      "building tree 54 of 200\n",
      "building tree 55 of 200\n",
      "building tree 56 of 200\n",
      "building tree 57 of 200\n",
      "building tree 58 of 200\n",
      "building tree 59 of 200\n"
     ]
    },
    {
     "name": "stderr",
     "output_type": "stream",
     "text": [
      "[Parallel(n_jobs=-1)]: Done  53 tasks      | elapsed:    8.1s\n"
     ]
    },
    {
     "name": "stdout",
     "output_type": "stream",
     "text": [
      "building tree 60 of 200\n",
      "building tree 61 of 200\n",
      "building tree 62 of 200\n",
      "building tree 63 of 200\n",
      "building tree 64 of 200\n",
      "building tree 65 of 200\n",
      "building tree 66 of 200\n",
      "building tree 67 of 200\n"
     ]
    },
    {
     "name": "stderr",
     "output_type": "stream",
     "text": [
      "[Parallel(n_jobs=-1)]: Done  64 tasks      | elapsed:    9.6s\n"
     ]
    },
    {
     "name": "stdout",
     "output_type": "stream",
     "text": [
      "building tree 68 of 200\n",
      "building tree 69 of 200\n",
      "building tree 70 of 200\n",
      "building tree 71 of 200\n",
      "building tree 72 of 200\n",
      "building tree 73 of 200\n",
      "building tree 74 of 200\n",
      "building tree 75 of 200\n",
      "building tree 76 of 200\n",
      "building tree 77 of 200\n",
      "building tree 78 of 200\n",
      "building tree 79 of 200\n",
      "building tree 80 of 200\n",
      "building tree 81 of 200"
     ]
    },
    {
     "name": "stderr",
     "output_type": "stream",
     "text": [
      "[Parallel(n_jobs=-1)]: Done  77 tasks      | elapsed:   11.5s\n"
     ]
    },
    {
     "name": "stdout",
     "output_type": "stream",
     "text": [
      "\n",
      "building tree 82 of 200\n",
      "building tree 83 of 200\n",
      "building tree 84 of 200\n",
      "building tree 85 of 200\n",
      "building tree 86 of 200\n",
      "building tree 87 of 200\n",
      "building tree 88 of 200\n",
      "building tree 89 of 200\n",
      "building tree 90 of 200\n",
      "building tree 91 of 200\n",
      "building tree 92 of 200\n",
      "building tree 93 of 200\n"
     ]
    },
    {
     "name": "stderr",
     "output_type": "stream",
     "text": [
      "[Parallel(n_jobs=-1)]: Done  90 tasks      | elapsed:   13.3s\n"
     ]
    },
    {
     "name": "stdout",
     "output_type": "stream",
     "text": [
      "building tree 94 of 200\n",
      "building tree 95 of 200\n",
      "building tree 96 of 200\n",
      "building tree 97 of 200\n",
      "building tree 98 of 200\n",
      "building tree 99 of 200\n",
      "building tree 100 of 200\n",
      "building tree 101 of 200\n",
      "building tree 102 of 200\n",
      "building tree 103 of 200\n",
      "building tree 104 of 200\n",
      "building tree 105 of 200\n",
      "building tree 106 of 200\n",
      "building tree 107 of 200\n",
      "building tree 108 of 200\n"
     ]
    },
    {
     "name": "stderr",
     "output_type": "stream",
     "text": [
      "[Parallel(n_jobs=-1)]: Done 105 tasks      | elapsed:   15.2s\n"
     ]
    },
    {
     "name": "stdout",
     "output_type": "stream",
     "text": [
      "building tree 109 of 200\n",
      "building tree 110 of 200\n",
      "building tree 111 of 200\n",
      "building tree 112 of 200\n",
      "building tree 113 of 200\n",
      "building tree 114 of 200\n",
      "building tree 115 of 200\n",
      "building tree 116 of 200\n",
      "building tree 117 of 200\n",
      "building tree 118 of 200\n",
      "building tree 119 of 200\n",
      "building tree 120 of 200\n",
      "building tree 121 of 200\n",
      "building tree 122 of 200\n",
      "building tree 123 of 200\n"
     ]
    },
    {
     "name": "stderr",
     "output_type": "stream",
     "text": [
      "[Parallel(n_jobs=-1)]: Done 120 tasks      | elapsed:   17.0s\n"
     ]
    },
    {
     "name": "stdout",
     "output_type": "stream",
     "text": [
      "building tree 124 of 200\n",
      "building tree 125 of 200\n",
      "building tree 126 of 200\n",
      "building tree 127 of 200\n",
      "building tree 128 of 200\n",
      "building tree 129 of 200\n",
      "building tree 130 of 200\n",
      "building tree 131 of 200\n",
      "building tree 132 of 200\n",
      "building tree 133 of 200\n",
      "building tree 134 of 200\n",
      "building tree 135 of 200\n",
      "building tree 136 of 200\n",
      "building tree 137 of 200\n",
      "building tree 138 of 200\n",
      "building tree 139 of 200\n",
      "building tree 140 of 200\n",
      "building tree 141 of 200\n"
     ]
    },
    {
     "name": "stderr",
     "output_type": "stream",
     "text": [
      "[Parallel(n_jobs=-1)]: Done 137 tasks      | elapsed:   19.3s\n"
     ]
    },
    {
     "name": "stdout",
     "output_type": "stream",
     "text": [
      "building tree 142 of 200\n",
      "building tree 143 of 200\n",
      "building tree 144 of 200\n",
      "building tree 145 of 200\n",
      "building tree 146 of 200building tree 147 of 200\n",
      "\n",
      "building tree 148 of 200\n",
      "building tree 149 of 200\n",
      "building tree 150 of 200\n",
      "building tree 151 of 200\n",
      "building tree 152 of 200\n",
      "building tree 153 of 200\n",
      "building tree 154 of 200\n",
      "building tree 155 of 200\n",
      "building tree 156 of 200\n",
      "building tree 157 of 200\n",
      "building tree 158 of 200\n"
     ]
    },
    {
     "name": "stderr",
     "output_type": "stream",
     "text": [
      "[Parallel(n_jobs=-1)]: Done 154 tasks      | elapsed:   21.4s\n"
     ]
    },
    {
     "name": "stdout",
     "output_type": "stream",
     "text": [
      "building tree 159 of 200\n",
      "building tree 160 of 200\n",
      "building tree 161 of 200\n",
      "building tree 162 of 200\n",
      "building tree 163 of 200\n",
      "building tree 164 of 200\n",
      "building tree 165 of 200\n",
      "building tree 166 of 200\n",
      "building tree 167 of 200\n",
      "building tree 168 of 200\n",
      "building tree 169 of 200\n",
      "building tree 170 of 200\n",
      "building tree 171 of 200\n",
      "building tree 172 of 200\n",
      "building tree 173 of 200\n",
      "building tree 174 of 200\n",
      "building tree 175 of 200\n",
      "building tree 176 of 200\n",
      "building tree 177 of 200\n"
     ]
    },
    {
     "name": "stderr",
     "output_type": "stream",
     "text": [
      "[Parallel(n_jobs=-1)]: Done 173 tasks      | elapsed:   23.9s\n"
     ]
    },
    {
     "name": "stdout",
     "output_type": "stream",
     "text": [
      "building tree 178 of 200\n",
      "building tree 179 of 200\n",
      "building tree 180 of 200\n",
      "building tree 181 of 200\n",
      "building tree 182 of 200\n",
      "building tree 183 of 200\n",
      "building tree 184 of 200\n",
      "building tree 185 of 200\n",
      "building tree 186 of 200\n",
      "building tree 187 of 200\n",
      "building tree 188 of 200\n",
      "building tree 189 of 200\n",
      "building tree 190 of 200\n",
      "building tree 191 of 200\n",
      "building tree 192 of 200\n",
      "building tree 193 of 200\n",
      "building tree 194 of 200\n",
      "building tree 195 of 200\n",
      "building tree 196 of 200\n",
      "building tree 197 of 200"
     ]
    },
    {
     "name": "stderr",
     "output_type": "stream",
     "text": [
      "[Parallel(n_jobs=-1)]: Done 192 tasks      | elapsed:   26.5s\n"
     ]
    },
    {
     "name": "stdout",
     "output_type": "stream",
     "text": [
      "\n",
      "building tree 198 of 200\n",
      "building tree 199 of 200\n",
      "building tree 200 of 200\n"
     ]
    },
    {
     "name": "stderr",
     "output_type": "stream",
     "text": [
      "[Parallel(n_jobs=-1)]: Done 200 out of 200 | elapsed:   27.5s finished\n",
      "[Parallel(n_jobs=4)]: Done   5 tasks      | elapsed:    0.0s\n",
      "[Parallel(n_jobs=4)]: Done  10 tasks      | elapsed:    0.0s\n",
      "[Parallel(n_jobs=4)]: Done  17 tasks      | elapsed:    0.0s\n",
      "[Parallel(n_jobs=4)]: Done  24 tasks      | elapsed:    0.0s\n",
      "[Parallel(n_jobs=4)]: Done  33 tasks      | elapsed:    0.0s\n",
      "[Parallel(n_jobs=4)]: Done  42 tasks      | elapsed:    0.0s\n",
      "[Parallel(n_jobs=4)]: Done  53 tasks      | elapsed:    0.0s\n",
      "[Parallel(n_jobs=4)]: Done  64 tasks      | elapsed:    0.1s\n",
      "[Parallel(n_jobs=4)]: Done  77 tasks      | elapsed:    0.1s\n",
      "[Parallel(n_jobs=4)]: Done  90 tasks      | elapsed:    0.1s\n",
      "[Parallel(n_jobs=4)]: Done 105 tasks      | elapsed:    0.1s\n",
      "[Parallel(n_jobs=4)]: Done 120 tasks      | elapsed:    0.1s\n",
      "[Parallel(n_jobs=4)]: Done 137 tasks      | elapsed:    0.1s\n",
      "[Parallel(n_jobs=4)]: Done 154 tasks      | elapsed:    0.2s\n",
      "[Parallel(n_jobs=4)]: Done 173 tasks      | elapsed:    0.2s\n",
      "[Parallel(n_jobs=4)]: Done 192 tasks      | elapsed:    0.2s\n",
      "[Parallel(n_jobs=4)]: Done 200 out of 200 | elapsed:    0.2s finished\n"
     ]
    },
    {
     "data": {
      "text/plain": [
       "0.8644"
      ]
     },
     "execution_count": 380,
     "metadata": {},
     "output_type": "execute_result"
    }
   ],
   "source": [
    "## Model Building using RandomForest\n",
    "from sklearn.ensemble import RandomForestClassifier\n",
    "from sklearn import metrics\n",
    "rfc=RandomForestClassifier(n_estimators=200,max_depth=10,min_samples_split=90,n_jobs=-1,max_features=0.13,random_state=20,verbose=10)\n",
    "rfc.fit(x_train,y_train)\n",
    "y_rfc_pred=rfc.predict(x_val)\n",
    "acc_rfc_score=metrics.accuracy_score(y_val,y_rfc_pred)\n",
    "acc_rfc_score"
   ]
  },
  {
   "cell_type": "code",
   "execution_count": null,
   "metadata": {},
   "outputs": [],
   "source": []
  }
 ],
 "metadata": {
  "kernelspec": {
   "display_name": "Python 3",
   "language": "python",
   "name": "python3"
  },
  "language_info": {
   "codemirror_mode": {
    "name": "ipython",
    "version": 3
   },
   "file_extension": ".py",
   "mimetype": "text/x-python",
   "name": "python",
   "nbconvert_exporter": "python",
   "pygments_lexer": "ipython3",
   "version": "3.7.0"
  }
 },
 "nbformat": 4,
 "nbformat_minor": 2
}
